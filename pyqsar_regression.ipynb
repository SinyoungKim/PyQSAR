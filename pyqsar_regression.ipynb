{
 "cells": [
  {
   "cell_type": "markdown",
   "metadata": {},
   "source": [
    "# ++pyqsar tutorial for multiple linear regression model++"
   ]
  },
  {
   "cell_type": "markdown",
   "metadata": {},
   "source": [
    "# Sinyoung Kim"
   ]
  },
  {
   "cell_type": "markdown",
   "metadata": {},
   "source": [
    "crong24601@gmail.com"
   ]
  },
  {
   "cell_type": "markdown",
   "metadata": {},
   "source": [
    "Release : 27 December 2017"
   ]
  },
  {
   "cell_type": "markdown",
   "metadata": {},
   "source": [
    "# Data Load"
   ]
  },
  {
   "cell_type": "code",
   "execution_count": 1,
   "metadata": {},
   "outputs": [],
   "source": [
    "import pandas as pd\n",
    "csv_file_name = \"qsar_input_file.csv\"\n",
    "sample_data = pd.read_csv(csv_file_name,sep=\",\")\n",
    "\n",
    "X_data = sample_data.iloc[:,1:-1]\n",
    "y_data = sample_data.iloc[:,-1:]"
   ]
  },
  {
   "cell_type": "code",
   "execution_count": 2,
   "metadata": {},
   "outputs": [
    {
     "data": {
      "text/html": [
       "<div>\n",
       "<style scoped>\n",
       "    .dataframe tbody tr th:only-of-type {\n",
       "        vertical-align: middle;\n",
       "    }\n",
       "\n",
       "    .dataframe tbody tr th {\n",
       "        vertical-align: top;\n",
       "    }\n",
       "\n",
       "    .dataframe thead th {\n",
       "        text-align: right;\n",
       "    }\n",
       "</style>\n",
       "<table border=\"1\" class=\"dataframe\">\n",
       "  <thead>\n",
       "    <tr style=\"text-align: right;\">\n",
       "      <th></th>\n",
       "      <th>nAcid</th>\n",
       "      <th>ALogP</th>\n",
       "      <th>ALogp2</th>\n",
       "      <th>AMR</th>\n",
       "      <th>apol</th>\n",
       "      <th>naAromAtom</th>\n",
       "      <th>nAromBond</th>\n",
       "      <th>nAtom</th>\n",
       "      <th>nHeavyAtom</th>\n",
       "      <th>nH</th>\n",
       "      <th>...</th>\n",
       "      <th>AMW</th>\n",
       "      <th>WTPT-1</th>\n",
       "      <th>WTPT-2</th>\n",
       "      <th>WTPT-3</th>\n",
       "      <th>WTPT-4</th>\n",
       "      <th>WTPT-5</th>\n",
       "      <th>WPATH</th>\n",
       "      <th>WPOL</th>\n",
       "      <th>XLogP</th>\n",
       "      <th>Zagreb</th>\n",
       "    </tr>\n",
       "  </thead>\n",
       "  <tbody>\n",
       "    <tr>\n",
       "      <th>0</th>\n",
       "      <td>0</td>\n",
       "      <td>2.8332</td>\n",
       "      <td>8.027022</td>\n",
       "      <td>15.5429</td>\n",
       "      <td>6.481000</td>\n",
       "      <td>0</td>\n",
       "      <td>0</td>\n",
       "      <td>5</td>\n",
       "      <td>5</td>\n",
       "      <td>0</td>\n",
       "      <td>...</td>\n",
       "      <td>29.582709</td>\n",
       "      <td>8.500000</td>\n",
       "      <td>1.700000</td>\n",
       "      <td>9.000000</td>\n",
       "      <td>0.000000</td>\n",
       "      <td>0.0</td>\n",
       "      <td>16.0</td>\n",
       "      <td>0.0</td>\n",
       "      <td>2.791</td>\n",
       "      <td>20.0</td>\n",
       "    </tr>\n",
       "    <tr>\n",
       "      <th>1</th>\n",
       "      <td>0</td>\n",
       "      <td>0.6494</td>\n",
       "      <td>0.421720</td>\n",
       "      <td>13.7114</td>\n",
       "      <td>7.993379</td>\n",
       "      <td>0</td>\n",
       "      <td>0</td>\n",
       "      <td>9</td>\n",
       "      <td>6</td>\n",
       "      <td>3</td>\n",
       "      <td>...</td>\n",
       "      <td>11.112622</td>\n",
       "      <td>10.465990</td>\n",
       "      <td>1.744332</td>\n",
       "      <td>9.237437</td>\n",
       "      <td>2.332107</td>\n",
       "      <td>0.0</td>\n",
       "      <td>28.0</td>\n",
       "      <td>3.0</td>\n",
       "      <td>0.926</td>\n",
       "      <td>24.0</td>\n",
       "    </tr>\n",
       "    <tr>\n",
       "      <th>2</th>\n",
       "      <td>1</td>\n",
       "      <td>0.8583</td>\n",
       "      <td>0.736679</td>\n",
       "      <td>13.6539</td>\n",
       "      <td>7.461793</td>\n",
       "      <td>0</td>\n",
       "      <td>0</td>\n",
       "      <td>8</td>\n",
       "      <td>7</td>\n",
       "      <td>1</td>\n",
       "      <td>...</td>\n",
       "      <td>14.249108</td>\n",
       "      <td>12.293055</td>\n",
       "      <td>1.756151</td>\n",
       "      <td>11.587713</td>\n",
       "      <td>4.654701</td>\n",
       "      <td>0.0</td>\n",
       "      <td>42.0</td>\n",
       "      <td>6.0</td>\n",
       "      <td>0.619</td>\n",
       "      <td>30.0</td>\n",
       "    </tr>\n",
       "    <tr>\n",
       "      <th>3</th>\n",
       "      <td>0</td>\n",
       "      <td>2.7863</td>\n",
       "      <td>7.763468</td>\n",
       "      <td>27.3736</td>\n",
       "      <td>11.731000</td>\n",
       "      <td>0</td>\n",
       "      <td>0</td>\n",
       "      <td>8</td>\n",
       "      <td>8</td>\n",
       "      <td>0</td>\n",
       "      <td>...</td>\n",
       "      <td>23.237721</td>\n",
       "      <td>14.062500</td>\n",
       "      <td>1.757812</td>\n",
       "      <td>13.875000</td>\n",
       "      <td>0.000000</td>\n",
       "      <td>0.0</td>\n",
       "      <td>58.0</td>\n",
       "      <td>9.0</td>\n",
       "      <td>3.471</td>\n",
       "      <td>38.0</td>\n",
       "    </tr>\n",
       "    <tr>\n",
       "      <th>4</th>\n",
       "      <td>0</td>\n",
       "      <td>0.6467</td>\n",
       "      <td>0.418221</td>\n",
       "      <td>17.4897</td>\n",
       "      <td>10.977172</td>\n",
       "      <td>0</td>\n",
       "      <td>0</td>\n",
       "      <td>12</td>\n",
       "      <td>8</td>\n",
       "      <td>4</td>\n",
       "      <td>...</td>\n",
       "      <td>11.001652</td>\n",
       "      <td>14.271680</td>\n",
       "      <td>1.783960</td>\n",
       "      <td>11.777389</td>\n",
       "      <td>2.362609</td>\n",
       "      <td>0.0</td>\n",
       "      <td>62.0</td>\n",
       "      <td>9.0</td>\n",
       "      <td>1.291</td>\n",
       "      <td>34.0</td>\n",
       "    </tr>\n",
       "  </tbody>\n",
       "</table>\n",
       "<p>5 rows × 1444 columns</p>\n",
       "</div>"
      ],
      "text/plain": [
       "   nAcid   ALogP    ALogp2      AMR       apol  naAromAtom  nAromBond  nAtom  \\\n",
       "0      0  2.8332  8.027022  15.5429   6.481000           0          0      5   \n",
       "1      0  0.6494  0.421720  13.7114   7.993379           0          0      9   \n",
       "2      1  0.8583  0.736679  13.6539   7.461793           0          0      8   \n",
       "3      0  2.7863  7.763468  27.3736  11.731000           0          0      8   \n",
       "4      0  0.6467  0.418221  17.4897  10.977172           0          0     12   \n",
       "\n",
       "   nHeavyAtom  nH   ...          AMW     WTPT-1    WTPT-2     WTPT-3  \\\n",
       "0           5   0   ...    29.582709   8.500000  1.700000   9.000000   \n",
       "1           6   3   ...    11.112622  10.465990  1.744332   9.237437   \n",
       "2           7   1   ...    14.249108  12.293055  1.756151  11.587713   \n",
       "3           8   0   ...    23.237721  14.062500  1.757812  13.875000   \n",
       "4           8   4   ...    11.001652  14.271680  1.783960  11.777389   \n",
       "\n",
       "     WTPT-4  WTPT-5  WPATH  WPOL  XLogP  Zagreb  \n",
       "0  0.000000     0.0   16.0   0.0  2.791    20.0  \n",
       "1  2.332107     0.0   28.0   3.0  0.926    24.0  \n",
       "2  4.654701     0.0   42.0   6.0  0.619    30.0  \n",
       "3  0.000000     0.0   58.0   9.0  3.471    38.0  \n",
       "4  2.362609     0.0   62.0   9.0  1.291    34.0  \n",
       "\n",
       "[5 rows x 1444 columns]"
      ]
     },
     "execution_count": 2,
     "metadata": {},
     "output_type": "execute_result"
    }
   ],
   "source": [
    "#X_data   # Total dataframe\n",
    "X_data.head()"
   ]
  },
  {
   "cell_type": "code",
   "execution_count": 3,
   "metadata": {},
   "outputs": [
    {
     "data": {
      "text/plain": [
       "(56, 1444)"
      ]
     },
     "execution_count": 3,
     "metadata": {},
     "output_type": "execute_result"
    }
   ],
   "source": [
    "X_data.shape"
   ]
  },
  {
   "cell_type": "code",
   "execution_count": 4,
   "metadata": {},
   "outputs": [
    {
     "data": {
      "text/html": [
       "<div>\n",
       "<style scoped>\n",
       "    .dataframe tbody tr th:only-of-type {\n",
       "        vertical-align: middle;\n",
       "    }\n",
       "\n",
       "    .dataframe tbody tr th {\n",
       "        vertical-align: top;\n",
       "    }\n",
       "\n",
       "    .dataframe thead th {\n",
       "        text-align: right;\n",
       "    }\n",
       "</style>\n",
       "<table border=\"1\" class=\"dataframe\">\n",
       "  <thead>\n",
       "    <tr style=\"text-align: right;\">\n",
       "      <th></th>\n",
       "      <th>end_point</th>\n",
       "    </tr>\n",
       "  </thead>\n",
       "  <tbody>\n",
       "    <tr>\n",
       "      <th>0</th>\n",
       "      <td>2.592</td>\n",
       "    </tr>\n",
       "    <tr>\n",
       "      <th>1</th>\n",
       "      <td>4.538</td>\n",
       "    </tr>\n",
       "    <tr>\n",
       "      <th>2</th>\n",
       "      <td>3.927</td>\n",
       "    </tr>\n",
       "    <tr>\n",
       "      <th>3</th>\n",
       "      <td>2.858</td>\n",
       "    </tr>\n",
       "    <tr>\n",
       "      <th>4</th>\n",
       "      <td>4.186</td>\n",
       "    </tr>\n",
       "  </tbody>\n",
       "</table>\n",
       "</div>"
      ],
      "text/plain": [
       "   end_point\n",
       "0      2.592\n",
       "1      4.538\n",
       "2      3.927\n",
       "3      2.858\n",
       "4      4.186"
      ]
     },
     "execution_count": 4,
     "metadata": {},
     "output_type": "execute_result"
    }
   ],
   "source": [
    "#y_data   # Total dataframe\n",
    "y_data.head()"
   ]
  },
  {
   "cell_type": "code",
   "execution_count": 5,
   "metadata": {},
   "outputs": [
    {
     "data": {
      "text/plain": [
       "(56, 1)"
      ]
     },
     "execution_count": 5,
     "metadata": {},
     "output_type": "execute_result"
    }
   ],
   "source": [
    "y_data.shape"
   ]
  },
  {
   "cell_type": "markdown",
   "metadata": {},
   "source": [
    "# Hello pyqsar!"
   ]
  },
  {
   "cell_type": "code",
   "execution_count": 6,
   "metadata": {},
   "outputs": [],
   "source": [
    "import pyqsar\n",
    "from pyqsar import data_tools as dt"
   ]
  },
  {
   "cell_type": "markdown",
   "metadata": {},
   "source": [
    "# Remove empty feature"
   ]
  },
  {
   "cell_type": "code",
   "execution_count": 7,
   "metadata": {},
   "outputs": [
    {
     "data": {
      "text/plain": [
       "(56, 1444)"
      ]
     },
     "execution_count": 7,
     "metadata": {},
     "output_type": "execute_result"
    }
   ],
   "source": [
    "X_data.shape"
   ]
  },
  {
   "cell_type": "code",
   "execution_count": 8,
   "metadata": {},
   "outputs": [],
   "source": [
    "X_data = dt.rm_empty_feature(X_data)"
   ]
  },
  {
   "cell_type": "code",
   "execution_count": 9,
   "metadata": {},
   "outputs": [
    {
     "data": {
      "text/plain": [
       "(56, 1018)"
      ]
     },
     "execution_count": 9,
     "metadata": {},
     "output_type": "execute_result"
    }
   ],
   "source": [
    "X_data.shape"
   ]
  },
  {
   "cell_type": "markdown",
   "metadata": {},
   "source": [
    "# Remove NaN"
   ]
  },
  {
   "cell_type": "code",
   "execution_count": 10,
   "metadata": {},
   "outputs": [
    {
     "data": {
      "text/plain": [
       "(56, 1018)"
      ]
     },
     "execution_count": 10,
     "metadata": {},
     "output_type": "execute_result"
    }
   ],
   "source": [
    "X_data.shape"
   ]
  },
  {
   "cell_type": "code",
   "execution_count": 11,
   "metadata": {},
   "outputs": [],
   "source": [
    "X_data = dt.rmNaN(X_data)"
   ]
  },
  {
   "cell_type": "code",
   "execution_count": 12,
   "metadata": {},
   "outputs": [
    {
     "data": {
      "text/plain": [
       "(56, 981)"
      ]
     },
     "execution_count": 12,
     "metadata": {},
     "output_type": "execute_result"
    }
   ],
   "source": [
    "X_data.shape"
   ]
  },
  {
   "cell_type": "markdown",
   "metadata": {},
   "source": [
    "# Widget for data"
   ]
  },
  {
   "cell_type": "code",
   "execution_count": 13,
   "metadata": {},
   "outputs": [
    {
     "data": {
      "application/vnd.jupyter.widget-view+json": {
       "model_id": "7f809793209a4891b527b1ca93648250",
       "version_major": 2,
       "version_minor": 0
      },
      "text/plain": [
       "Text(value=u'')"
      ]
     },
     "metadata": {},
     "output_type": "display_data"
    },
    {
     "data": {
      "application/vnd.jupyter.widget-view+json": {
       "model_id": "53fda47fbd1646c2a1313aac4f08159d",
       "version_major": 2,
       "version_minor": 0
      },
      "text/plain": [
       "Button(description=u'Search', style=ButtonStyle())"
      ]
     },
     "metadata": {},
     "output_type": "display_data"
    },
    {
     "data": {
      "text/plain": [
       "<pyqsar.data_tools.SearchFeature instance at 0x7fce5dcdbdd0>"
      ]
     },
     "execution_count": 13,
     "metadata": {},
     "output_type": "execute_result"
    }
   ],
   "source": [
    "dt.SearchFeature(X_data)"
   ]
  },
  {
   "cell_type": "code",
   "execution_count": 14,
   "metadata": {},
   "outputs": [
    {
     "data": {
      "application/vnd.jupyter.widget-view+json": {
       "model_id": "fc869056fec04e968e31c394da6cf566",
       "version_major": 2,
       "version_minor": 0
      },
      "text/plain": [
       "U2VsZWN0TXVsdGlwbGUoZGVzY3JpcHRpb249dSdTZWxlY3RlZCBGZWF0dXJlczonLCBvcHRpb25zPSgnbkFjaWQnLCAnQUxvZ1AnLCAnQUxvZ3AyJywgJ0FNUicsICdhcG9sJywgJ25BdG9tJyzigKY=\n"
      ]
     },
     "metadata": {},
     "output_type": "display_data"
    },
    {
     "name": "stderr",
     "output_type": "stream",
     "text": [
      "/share/anaconda2/lib/python2.7/site-packages/sklearn/preprocessing/data.py:323: DataConversionWarning: Data with input dtype int64, float64 were all converted to float64 by MinMaxScaler.\n",
      "  return self.partial_fit(X, y)\n"
     ]
    },
    {
     "data": {
      "application/vnd.jupyter.widget-view+json": {
       "model_id": "acc55a48172a4586bbc63a958c31b1e6",
       "version_major": 2,
       "version_minor": 0
      },
      "text/plain": [
       "Button(description=u'Get scatter matrix', style=ButtonStyle())"
      ]
     },
     "metadata": {},
     "output_type": "display_data"
    },
    {
     "data": {
      "text/plain": [
       "<pyqsar.data_tools.ScatterMatrix instance at 0x7fce5db3b5f0>"
      ]
     },
     "execution_count": 14,
     "metadata": {},
     "output_type": "execute_result"
    },
    {
     "data": {
      "image/png": "[encoded data removed]",
      "text/plain": [
       "<Figure size 432x288 with 16 Axes>"
      ]
     },
     "metadata": {
      "needs_background": "light"
     },
     "output_type": "display_data"
    }
   ],
   "source": [
    "%matplotlib inline\n",
    "dt.ScatterMatrix(X_data)"
   ]
  },
  {
   "cell_type": "markdown",
   "metadata": {},
   "source": [
    "# Data scaling"
   ]
  },
  {
   "cell_type": "code",
   "execution_count": 15,
   "metadata": {},
   "outputs": [],
   "source": [
    "from sklearn.preprocessing import MinMaxScaler\n",
    "header = list(X_data.columns.values)\n",
    "scaler = MinMaxScaler()\n",
    "X_data_scaled = scaler.fit_transform(X_data)\n",
    "X_data = pd.DataFrame(X_data_scaled, columns=header)"
   ]
  },
  {
   "cell_type": "code",
   "execution_count": 16,
   "metadata": {},
   "outputs": [
    {
     "data": {
      "text/html": [
       "<div>\n",
       "<style scoped>\n",
       "    .dataframe tbody tr th:only-of-type {\n",
       "        vertical-align: middle;\n",
       "    }\n",
       "\n",
       "    .dataframe tbody tr th {\n",
       "        vertical-align: top;\n",
       "    }\n",
       "\n",
       "    .dataframe thead th {\n",
       "        text-align: right;\n",
       "    }\n",
       "</style>\n",
       "<table border=\"1\" class=\"dataframe\">\n",
       "  <thead>\n",
       "    <tr style=\"text-align: right;\">\n",
       "      <th></th>\n",
       "      <th>nAcid</th>\n",
       "      <th>ALogP</th>\n",
       "      <th>ALogp2</th>\n",
       "      <th>AMR</th>\n",
       "      <th>apol</th>\n",
       "      <th>nAtom</th>\n",
       "      <th>nHeavyAtom</th>\n",
       "      <th>nH</th>\n",
       "      <th>nC</th>\n",
       "      <th>nN</th>\n",
       "      <th>...</th>\n",
       "      <th>AMW</th>\n",
       "      <th>WTPT-1</th>\n",
       "      <th>WTPT-2</th>\n",
       "      <th>WTPT-3</th>\n",
       "      <th>WTPT-4</th>\n",
       "      <th>WTPT-5</th>\n",
       "      <th>WPATH</th>\n",
       "      <th>WPOL</th>\n",
       "      <th>XLogP</th>\n",
       "      <th>Zagreb</th>\n",
       "    </tr>\n",
       "  </thead>\n",
       "  <tbody>\n",
       "    <tr>\n",
       "      <th>0</th>\n",
       "      <td>0.0</td>\n",
       "      <td>0.443862</td>\n",
       "      <td>0.202583</td>\n",
       "      <td>0.112285</td>\n",
       "      <td>0.038257</td>\n",
       "      <td>0.000000</td>\n",
       "      <td>0.000000</td>\n",
       "      <td>0.000000</td>\n",
       "      <td>0.000000</td>\n",
       "      <td>0.0</td>\n",
       "      <td>...</td>\n",
       "      <td>0.818155</td>\n",
       "      <td>0.000000</td>\n",
       "      <td>0.000000</td>\n",
       "      <td>0.053817</td>\n",
       "      <td>0.000000</td>\n",
       "      <td>0.0</td>\n",
       "      <td>0.000000</td>\n",
       "      <td>0.00</td>\n",
       "      <td>0.302044</td>\n",
       "      <td>0.000000</td>\n",
       "    </tr>\n",
       "    <tr>\n",
       "      <th>1</th>\n",
       "      <td>0.0</td>\n",
       "      <td>0.092842</td>\n",
       "      <td>0.010520</td>\n",
       "      <td>0.054573</td>\n",
       "      <td>0.117191</td>\n",
       "      <td>0.181818</td>\n",
       "      <td>0.045455</td>\n",
       "      <td>0.500000</td>\n",
       "      <td>0.142857</td>\n",
       "      <td>0.0</td>\n",
       "      <td>...</td>\n",
       "      <td>0.094669</td>\n",
       "      <td>0.047890</td>\n",
       "      <td>0.192789</td>\n",
       "      <td>0.059917</td>\n",
       "      <td>0.287180</td>\n",
       "      <td>0.0</td>\n",
       "      <td>0.007407</td>\n",
       "      <td>0.05</td>\n",
       "      <td>0.042692</td>\n",
       "      <td>0.030769</td>\n",
       "    </tr>\n",
       "    <tr>\n",
       "      <th>2</th>\n",
       "      <td>1.0</td>\n",
       "      <td>0.126421</td>\n",
       "      <td>0.018474</td>\n",
       "      <td>0.052761</td>\n",
       "      <td>0.089446</td>\n",
       "      <td>0.136364</td>\n",
       "      <td>0.090909</td>\n",
       "      <td>0.166667</td>\n",
       "      <td>0.142857</td>\n",
       "      <td>0.0</td>\n",
       "      <td>...</td>\n",
       "      <td>0.217527</td>\n",
       "      <td>0.092396</td>\n",
       "      <td>0.244187</td>\n",
       "      <td>0.120301</td>\n",
       "      <td>0.573189</td>\n",
       "      <td>0.0</td>\n",
       "      <td>0.016049</td>\n",
       "      <td>0.10</td>\n",
       "      <td>0.000000</td>\n",
       "      <td>0.076923</td>\n",
       "    </tr>\n",
       "    <tr>\n",
       "      <th>3</th>\n",
       "      <td>0.0</td>\n",
       "      <td>0.436324</td>\n",
       "      <td>0.195927</td>\n",
       "      <td>0.485077</td>\n",
       "      <td>0.312265</td>\n",
       "      <td>0.136364</td>\n",
       "      <td>0.136364</td>\n",
       "      <td>0.000000</td>\n",
       "      <td>0.142857</td>\n",
       "      <td>0.0</td>\n",
       "      <td>...</td>\n",
       "      <td>0.569617</td>\n",
       "      <td>0.135498</td>\n",
       "      <td>0.251413</td>\n",
       "      <td>0.179067</td>\n",
       "      <td>0.000000</td>\n",
       "      <td>0.0</td>\n",
       "      <td>0.025926</td>\n",
       "      <td>0.15</td>\n",
       "      <td>0.396607</td>\n",
       "      <td>0.138462</td>\n",
       "    </tr>\n",
       "    <tr>\n",
       "      <th>4</th>\n",
       "      <td>0.0</td>\n",
       "      <td>0.092408</td>\n",
       "      <td>0.010431</td>\n",
       "      <td>0.173629</td>\n",
       "      <td>0.272921</td>\n",
       "      <td>0.318182</td>\n",
       "      <td>0.136364</td>\n",
       "      <td>0.666667</td>\n",
       "      <td>0.285714</td>\n",
       "      <td>0.0</td>\n",
       "      <td>...</td>\n",
       "      <td>0.090322</td>\n",
       "      <td>0.140594</td>\n",
       "      <td>0.365123</td>\n",
       "      <td>0.125174</td>\n",
       "      <td>0.290937</td>\n",
       "      <td>0.0</td>\n",
       "      <td>0.028395</td>\n",
       "      <td>0.15</td>\n",
       "      <td>0.093450</td>\n",
       "      <td>0.107692</td>\n",
       "    </tr>\n",
       "  </tbody>\n",
       "</table>\n",
       "<p>5 rows × 981 columns</p>\n",
       "</div>"
      ],
      "text/plain": [
       "   nAcid     ALogP    ALogp2       AMR      apol     nAtom  nHeavyAtom  \\\n",
       "0    0.0  0.443862  0.202583  0.112285  0.038257  0.000000    0.000000   \n",
       "1    0.0  0.092842  0.010520  0.054573  0.117191  0.181818    0.045455   \n",
       "2    1.0  0.126421  0.018474  0.052761  0.089446  0.136364    0.090909   \n",
       "3    0.0  0.436324  0.195927  0.485077  0.312265  0.136364    0.136364   \n",
       "4    0.0  0.092408  0.010431  0.173629  0.272921  0.318182    0.136364   \n",
       "\n",
       "         nH        nC   nN    ...          AMW    WTPT-1    WTPT-2    WTPT-3  \\\n",
       "0  0.000000  0.000000  0.0    ...     0.818155  0.000000  0.000000  0.053817   \n",
       "1  0.500000  0.142857  0.0    ...     0.094669  0.047890  0.192789  0.059917   \n",
       "2  0.166667  0.142857  0.0    ...     0.217527  0.092396  0.244187  0.120301   \n",
       "3  0.000000  0.142857  0.0    ...     0.569617  0.135498  0.251413  0.179067   \n",
       "4  0.666667  0.285714  0.0    ...     0.090322  0.140594  0.365123  0.125174   \n",
       "\n",
       "     WTPT-4  WTPT-5     WPATH  WPOL     XLogP    Zagreb  \n",
       "0  0.000000     0.0  0.000000  0.00  0.302044  0.000000  \n",
       "1  0.287180     0.0  0.007407  0.05  0.042692  0.030769  \n",
       "2  0.573189     0.0  0.016049  0.10  0.000000  0.076923  \n",
       "3  0.000000     0.0  0.025926  0.15  0.396607  0.138462  \n",
       "4  0.290937     0.0  0.028395  0.15  0.093450  0.107692  \n",
       "\n",
       "[5 rows x 981 columns]"
      ]
     },
     "execution_count": 16,
     "metadata": {},
     "output_type": "execute_result"
    }
   ],
   "source": [
    "X_data.head()"
   ]
  },
  {
   "cell_type": "markdown",
   "metadata": {},
   "source": [
    "# Feature clustering for feature selection"
   ]
  },
  {
   "cell_type": "code",
   "execution_count": 17,
   "metadata": {},
   "outputs": [
    {
     "name": "stdout",
     "output_type": "stream",
     "text": [
      "average linkage cophenet: 0.8207361898865558\n",
      "complete linkage cophenet: 0.7880046753103084\n",
      "single linkage cophenet: 0.3516479979353866\n"
     ]
    }
   ],
   "source": [
    "from pyqsar import clustering as cl\n",
    "# calculate cophenetic correlation coefficient \n",
    "cl.cophenetic(X_data)"
   ]
  },
  {
   "cell_type": "code",
   "execution_count": 18,
   "metadata": {},
   "outputs": [
    {
     "name": "stdout",
     "output_type": "stream",
     "text": [
      "\n",
      "\u001b[1;46mCluster\u001b[0m 1 ['ETA_Shape_X', 'JGT'] \n",
      "\u001b[1;46mCluster\u001b[0m 2 ['MLogP'] \n",
      "\u001b[1;46mCluster\u001b[0m 3 ['ATSC1e', 'ATSC1i'] \n",
      "\u001b[1;46mCluster\u001b[0m 4 ['ATSC1p'] \n",
      "\u001b[1;46mCluster\u001b[0m 5 ['MLFER_E'] \n",
      "\u001b[1;46mCluster\u001b[0m 6 ['ATSC1c'] \n",
      "\u001b[1;46mCluster\u001b[0m 7 ['nssO'] \n",
      "\u001b[1;46mCluster\u001b[0m 8 ['nAtomLC'] \n",
      "\u001b[1;46mCluster\u001b[0m 9 ['nRotB'] \n",
      "\u001b[1;46mCluster\u001b[0m 10 ['MATS8s', 'MATS8p', 'MATS8e', 'ATSC7c', 'ATSC8v', 'ATSC8s', 'ATSC8p', 'ATSC8e', 'ATSC8c', 'ATSC8m', 'ATSC8i', 'MDEO-22', 'MATS8v', 'MATS8c', 'AATSC8s', 'AATSC8p', 'AATSC8v', 'AATSC8c', 'AATSC8e', 'AATSC8i', 'MATS8m', 'AATSC8m', 'MATS8i'] \n",
      "\u001b[1;46mCluster\u001b[0m 11 ['GGI9', 'piPC10', 'JGI9', 'MPC10'] \n",
      "\u001b[1;46mCluster\u001b[0m 12 ['LipinskiFailures'] \n",
      "\u001b[1;46mCluster\u001b[0m 13 ['ATS7s', 'ATS7p', 'ATS7v', 'ATS7i', 'ATS7m', 'ATS7e', 'GGI7', 'GGI6', 'JGI6', 'JGI7', 'JGI8', 'ATS8i', 'ATS8m', 'ATS8e', 'ATS8s', 'ATS8p', 'ATS8v', 'GATS8m', 'GATS8i', 'GATS8e', 'GATS8c', 'GATS8v', 'GATS8p', 'GATS8s', 'AATS8e', 'AATS8i', 'GGI8', 'AATS8m', 'AATS8s', 'AATS8p', 'AATS8v', 'GATS7p', 'AATS7m', 'AATS7v', 'MPC8', 'AATS7s', 'MPC9', 'piPC9'] \n",
      "\u001b[1;46mCluster\u001b[0m 14 ['MPC7'] \n",
      "\u001b[1;46mCluster\u001b[0m 15 ['piPC8'] \n",
      "\u001b[1;46mCluster\u001b[0m 16 ['GATS7c', 'GATS7i', 'AATS7i', 'AATS7e'] \n",
      "\u001b[1;46mCluster\u001b[0m 17 ['AATS7p'] \n",
      "\u001b[1;46mCluster\u001b[0m 18 ['SpMin4_Bhp'] \n",
      "\u001b[1;46mCluster\u001b[0m 19 ['VP-7', 'SP-7', 'piPC7'] \n",
      "\u001b[1;46mCluster\u001b[0m 20 ['VP-5', 'VP-6', 'SP-6', 'piPC6'] \n",
      "\u001b[1;46mCluster\u001b[0m 21 ['SpMax1_Bhv', 'SpMin1_Bhi', 'SpMin1_Bhe', 'ETA_Epsilon_3', 'WTPT-2'] \n",
      "\u001b[1;46mCluster\u001b[0m 22 ['SpMax1_Bhe', 'SpMax1_Bhi', 'piPC4', 'SpMAD_Dt', 'piPC5', 'TpiPC', 'nC', 'piPC3'] \n",
      "\u001b[1;46mCluster\u001b[0m 23 ['SpMin5_Bhi', 'SpMin5_Bhe'] \n",
      "\u001b[1;46mCluster\u001b[0m 24 ['SpMin1_Bhv', 'SpMin1_Bhp'] \n",
      "\u001b[1;46mCluster\u001b[0m 25 ['TIC2', 'TIC3', 'TIC4', 'TIC5', 'MIC5'] \n",
      "\u001b[1;46mCluster\u001b[0m 26 ['SpMax3_Bhv', 'SpMax3_Bhe', 'SpMax3_Bhi', 'AATS5v', 'SpMax2_Bhv', 'SpMax2_Bhe', 'SpMax2_Bhi', 'SpMin2_Bhe', 'SpMin2_Bhi', 'SpMin2_Bhv', 'SpMin2_Bhp', 'MIC4'] \n",
      "\u001b[1;46mCluster\u001b[0m 27 ['ATSC0e'] \n",
      "\u001b[1;46mCluster\u001b[0m 28 ['maxsF', 'AMR', 'gmax', 'maxHBa', 'SpMax4_Bhm', 'ATS2p', 'CrippenMR', 'MAXDP'] \n",
      "\u001b[1;46mCluster\u001b[0m 29 ['SpMax5_Bhm', 'Sp', 'SpMax3_Bhp', 'VP-4', 'SpMax2_Bhp', 'SpMax4_Bhp', 'MAXDP2', 'apol', 'SpMAD_Dzs', 'ATS3p', 'ATS1p'] \n",
      "\u001b[1;46mCluster\u001b[0m 30 ['ASP-1'] \n",
      "\u001b[1;46mCluster\u001b[0m 31 ['ASP-2'] \n",
      "\u001b[1;46mCluster\u001b[0m 32 ['VE1_Dzs', 'VE2_Dzs'] \n",
      "\u001b[1;46mCluster\u001b[0m 33 ['AATS4s'] \n",
      "\u001b[1;46mCluster\u001b[0m 34 ['SpMax4_Bhs'] \n",
      "\u001b[1;46mCluster\u001b[0m 35 ['ASP-3'] \n",
      "\u001b[1;46mCluster\u001b[0m 36 ['AATS5m', 'AATS5s'] \n",
      "\u001b[1;46mCluster\u001b[0m 37 ['AATS4v'] \n",
      "\u001b[1;46mCluster\u001b[0m 38 ['SpMin4_Bhi', 'SpMin4_Bhe'] \n",
      "\u001b[1;46mCluster\u001b[0m 39 ['JGI4', 'AATS5i', 'AATS5e'] \n",
      "\u001b[1;46mCluster\u001b[0m 40 ['ASP-5'] \n",
      "\u001b[1;46mCluster\u001b[0m 41 ['AATS4e', 'AATS4i'] \n",
      "\u001b[1;46mCluster\u001b[0m 42 ['JGI3', 'GATS3c'] \n",
      "\u001b[1;46mCluster\u001b[0m 43 ['GATS4i', 'GATS4c'] \n",
      "\u001b[1;46mCluster\u001b[0m 44 ['GATS4p', 'GATS4v', 'AATS4p'] \n",
      "\u001b[1;46mCluster\u001b[0m 45 ['GATS6c', 'GATS6v'] \n",
      "\u001b[1;46mCluster\u001b[0m 46 ['AATS5p', 'GATS5p'] \n",
      "\u001b[1;46mCluster\u001b[0m 47 ['AATS6i', 'AATS6e', 'AATS6v', 'AATS6p'] \n",
      "\u001b[1;46mCluster\u001b[0m 48 ['AATS6m'] \n",
      "\u001b[1;46mCluster\u001b[0m 49 ['AATS6s'] \n",
      "\u001b[1;46mCluster\u001b[0m 50 ['ASP-6', 'AVP-5', 'AVP-6'] \n",
      "\u001b[1;46mCluster\u001b[0m 51 ['JGI5', 'GATS6i'] \n",
      "\u001b[1;46mCluster\u001b[0m 52 ['CIC5'] \n",
      "\u001b[1;46mCluster\u001b[0m 53 ['CIC4', 'GATS5i', 'GATS5c'] \n",
      "\u001b[1;46mCluster\u001b[0m 54 ['IC3'] \n",
      "\u001b[1;46mCluster\u001b[0m 55 ['GATS5v'] \n",
      "\u001b[1;46mCluster\u001b[0m 56 ['SpMin2_Bhm'] \n",
      "\u001b[1;46mCluster\u001b[0m 57 ['TIC0', 'TIC1'] \n",
      "\u001b[1;46mCluster\u001b[0m 58 ['SIC5', 'SIC4', 'BIC5', 'IC4', 'BIC4', 'IC5'] \n",
      "\u001b[1;46mCluster\u001b[0m 59 ['ETA_BetaP_s', 'SpMax5_Bhs'] \n",
      "\u001b[1;46mCluster\u001b[0m 60 ['hmax', 'gmin', 'MAXDN', 'MAXDN2'] \n",
      "\u001b[1;46mCluster\u001b[0m 61 ['minssssC'] \n",
      "\u001b[1;46mCluster\u001b[0m 62 ['CIC1', 'LipoaffinityIndex'] \n",
      "\u001b[1;46mCluster\u001b[0m 63 ['BIC0', 'SIC0'] \n",
      "\u001b[1;46mCluster\u001b[0m 64 ['ETA_EtaP_F'] \n",
      "\u001b[1;46mCluster\u001b[0m 65 ['ZMIC0', 'ZMIC1', 'ZMIC2', 'ZMIC3', 'VP-1', 'ATS1m', 'MW', 'VP-0'] \n",
      "\u001b[1;46mCluster\u001b[0m 66 ['CrippenLogP'] \n",
      "\u001b[1;46mCluster\u001b[0m 67 ['ETA_Eta', 'ETA_Eta_L'] \n",
      "\u001b[1;46mCluster\u001b[0m 68 ['SC-5', 'SC-6', 'nssssC', 'MDEC-44', 'SPC-4', 'ATS3s', 'GGI2'] \n",
      "\u001b[1;46mCluster\u001b[0m 69 ['ALogP', 'ALogp2'] \n",
      "\u001b[1;46mCluster\u001b[0m 70 ['SM1_Dzm', 'SM1_DzZ', 'nX'] \n",
      "\u001b[1;46mCluster\u001b[0m 71 ['ETA_dBeta', 'SC-4'] \n",
      "\u001b[1;46mCluster\u001b[0m 72 ['GGI5', 'ATS5e', 'ATS5i', 'ATS5m', 'ATS5s', 'ATS5v', 'ATS6p', 'ATS6s', 'ATS6v', 'ATS6i', 'ATS6m', 'ATS6e', 'GGI4'] \n",
      "\u001b[1;46mCluster\u001b[0m 73 ['ATS5p'] \n",
      "\u001b[1;46mCluster\u001b[0m 74 ['SpMax_Dzp', 'EE_DzZ', 'SpMAD_D', 'nAtom', 'Spe', 'SpDiam_DzZ', 'SpDiam_Dzv', 'ECCEN', 'SpDiam_Dzs', 'SpDiam_Dzp', 'SpDiam_Dze', 'SpDiam_Dzm', 'SpDiam_Dzi', 'EE_Dt', 'ATSC0s', 'ATSC0i', 'ATS0e', 'ATS0i', 'nBonds2', 'GGI3', 'Si', 'Sare', 'SpAD_Dzv', 'Zagreb', 'VABC', 'SpAbs_Dzm', 'ATS4e', 'MPC2', 'MPC3', 'ATS4m', 'ATS4i', 'ATS4v', 'EE_Dzi', 'EE_Dzm', 'Kier1', 'EE_Dze', 'SpAbs_Dzv', 'EE_Dzs', 'EE_Dzp', 'EE_Dzv', 'TPC', 'SpAbs_Dzs', 'SP-3', 'SP-0', 'topoDiameter', 'nBondsS2', 'SpAD_DzZ', 'SpAD_Dzm', 'SpAD_Dzi', 'SpAD_Dzs', 'SpAD_Dzp', 'ETA_Eta_R_L', 'nBonds', 'SP-1', 'ATS1i', 'ETA_Beta_s', 'SpAD_Dt', 'SpDiam_D', 'ATS2e', 'ATS2i', 'SpMax_D', 'Kier2', 'ATS3i', 'WPATH', 'SpAD_D', 'SpMax_Dze', 'SpMax_Dzm', 'SpMax_Dzi', 'SpMax_Dzv', 'SpMax_Dzs', 'SpMax_DzZ', 'EE_D', 'bpol', 'SpAbs_DzZ', 'SpAbs_Dze', 'SpAbs_Dzi', 'SpAbs_Dzp', 'WPOL', 'fragC', 'SP-2', 'nHeavyAtom', 'SpMax_Dt', 'SpDiam_Dt', 'nBondsS', 'sumI', 'nBondsS3', 'SPC-6', 'SPC-5', 'Sse', 'SpMAD_Dze', 'SpMAD_Dzi', 'SpMAD_Dzm', 'SpMAD_DzZ', 'DELS2', 'SpAD_Dze', 'ATS3e', 'WTPT-1', 'ATS1s', 'ETA_Eta_R', 'DELS', 'ATS1e', 'ETA_Eta_F'] \n",
      "\u001b[1;46mCluster\u001b[0m 75 ['ATSC0c', 'ATS0s', 'GGI1', 'SM1_Dzv', 'ATS4s', 'SM1_Dzs', 'SM1_Dzi', 'SC-3', 'nsF', 'SssssC', 'ATS2s', 'SM1_Dze', 'SM1_Dzp', 'nRotBt', 'SsF', 'ETA_Eta_B_RC', 'WTPT-3', 'nHBAcc2', 'SHBa', 'SpMAD_Dzp', 'SpMAD_Dzv', 'nHBAcc3', 'nF', 'ETA_Eta_B', 'nHBa'] \n",
      "\u001b[1;46mCluster\u001b[0m 76 ['SP-5', 'MPC5', 'MPC6'] \n",
      "\u001b[1;46mCluster\u001b[0m 77 ['SpMax5_Bhp', 'SpMin3_Bhv', 'SpMax5_Bhv'] \n",
      "\u001b[1;46mCluster\u001b[0m 78 ['ATS0v', 'Sv', 'ZMIC4', 'SRW4', 'SRW2', 'ETA_Alpha', 'McGowan_Volume', 'SRW8', 'TSRW', 'ATS1v', 'SRW10', 'ATS2v', 'TWC', 'MWC8', 'MWC10', 'MWC5', 'MWC4', 'MWC7', 'MWC6', 'MWC2', 'VAdjMat', 'MWC3', 'MWC9', 'ATS3v', 'SRW6'] \n",
      "\u001b[1;46mCluster\u001b[0m 79 ['SpMax5_Bhi', 'SpMax5_Bhe', 'ZMIC5', 'SpMax4_Bhv', 'ATS4p', 'SpMax4_Bhe', 'SpMin3_Bhp', 'SP-4', 'piPC1', 'SpMax4_Bhi', 'CIC0', 'topoRadius', 'ETA_Eta_F_L', 'MPC4', 'ETA_Beta', 'piPC2'] \n",
      "\u001b[1;46mCluster\u001b[0m 80 ['VPC-6', 'VPC-5'] \n",
      "\u001b[1;46mCluster\u001b[0m 81 ['C2SP3'] \n",
      "\u001b[1;46mCluster\u001b[0m 82 ['VR3_Dt', 'VR3_Dzv', 'VR3_Dzs', 'VR3_Dzm', 'VR3_Dzi', 'VR3_Dze', 'VR3_DzZ', 'VR3_Dzp', 'VR3_D'] \n",
      "\u001b[1;46mCluster\u001b[0m 83 ['VE3_Dzs', 'BIC1', 'SIC1', 'VE3_DzZ', 'VE3_Dzp', 'VE3_Dzm', 'VE3_Dzi', 'VE3_Dze', 'VE3_Dzv'] \n",
      "\u001b[1;46mCluster\u001b[0m 84 ['CIC2'] \n",
      "\u001b[1;46mCluster\u001b[0m 85 ['minsF', 'SpMax1_Bhp'] \n",
      "\u001b[1;46mCluster\u001b[0m 86 ['VPC-4'] \n",
      "\u001b[1;46mCluster\u001b[0m 87 ['ETA_EtaP'] \n",
      "\u001b[1;46mCluster\u001b[0m 88 ['AATS3v'] \n",
      "\u001b[1;46mCluster\u001b[0m 89 ['ATS2m', 'ATS3m'] \n",
      "\u001b[1;46mCluster\u001b[0m 90 ['XLogP'] \n",
      "\u001b[1;46mCluster\u001b[0m 91 ['SpMax3_Bhm', 'VP-3'] \n",
      "\u001b[1;46mCluster\u001b[0m 92 ['ATS0p'] \n",
      "\u001b[1;46mCluster\u001b[0m 93 ['VP-2'] \n",
      "\u001b[1;46mCluster\u001b[0m 94 ['MATS1c'] \n",
      "\u001b[1;46mCluster\u001b[0m 95 ['JGI2'] \n",
      "\u001b[1;46mCluster\u001b[0m 96 ['GATS2c'] \n",
      "\u001b[1;46mCluster\u001b[0m 97 ['ATSC2c'] \n",
      "\u001b[1;46mCluster\u001b[0m 98 ['BIC2', 'SIC2'] \n",
      "\u001b[1;46mCluster\u001b[0m 99 ['VE3_Dt', 'VE3_D'] \n",
      "\u001b[1;46mCluster\u001b[0m 100 ['VE1_Dze', 'VE2_Dzi', 'VE2_Dze', 'VE1_Dzi'] \n",
      "\u001b[1;46mCluster\u001b[0m 101 ['VE2_DzZ', 'VE1_DzZ', 'VE1_Dzm', 'VE2_Dzm'] \n",
      "\u001b[1;46mCluster\u001b[0m 102 ['VE2_D'] \n",
      "\u001b[1;46mCluster\u001b[0m 103 ['AATS4m'] \n",
      "\u001b[1;46mCluster\u001b[0m 104 ['AATSC0c', 'GATS1s'] \n",
      "\u001b[1;46mCluster\u001b[0m 105 ['AATSC0v'] \n",
      "\u001b[1;46mCluster\u001b[0m 106 ['GATS1m'] \n",
      "\u001b[1;46mCluster\u001b[0m 107 ['IC0'] \n",
      "\u001b[1;46mCluster\u001b[0m 108 ['SpMax3_Bhs', 'SpMax2_Bhs', 'ETA_EtaP_B_RC', 'ETA_EtaP_B'] \n",
      "\u001b[1;46mCluster\u001b[0m 109 ['AATS2e', 'AATS1e'] \n",
      "\u001b[1;46mCluster\u001b[0m 110 ['Mi', 'AATS0s', 'AATS0i', 'Mare'] \n",
      "\u001b[1;46mCluster\u001b[0m 111 ['Mse', 'ETA_dEpsilon_A', 'AATS0e', 'Mpe', 'ETA_Epsilon_1', 'GATS1e', 'ETA_dEpsilon_C', 'ETA_Epsilon_4'] \n",
      "\u001b[1;46mCluster\u001b[0m 112 ['ETA_Epsilon_5'] \n",
      "\u001b[1;46mCluster\u001b[0m 113 ['AATSC2c', 'MATS2c'] \n",
      "\u001b[1;46mCluster\u001b[0m 114 ['AATS3e', 'AATS3i'] \n",
      "\u001b[1;46mCluster\u001b[0m 115 ['GATS1c'] \n",
      "\u001b[1;46mCluster\u001b[0m 116 ['VE2_Dzp', 'VE2_Dzv', 'VE1_Dzp'] \n",
      "\u001b[1;46mCluster\u001b[0m 117 ['VE1_Dzv'] \n",
      "\u001b[1;46mCluster\u001b[0m 118 ['SwHBa'] \n",
      "\u001b[1;46mCluster\u001b[0m 119 ['ATSC2e', 'VE2_Dt', 'GATS2e'] \n",
      "\u001b[1;46mCluster\u001b[0m 120 ['nH'] \n",
      "\u001b[1;46mCluster\u001b[0m 121 ['AATSC0i'] \n",
      "\u001b[1;46mCluster\u001b[0m 122 ['VE1_Dt'] \n",
      "\u001b[1;46mCluster\u001b[0m 123 ['AATSC2e', 'MATS2e'] \n",
      "\u001b[1;46mCluster\u001b[0m 124 ['AATSC2i', 'AATSC2s', 'MATS2s', 'MATS2i'] \n",
      "\u001b[1;46mCluster\u001b[0m 125 ['ATSC2s', 'ATSC2i', 'GATS2s', 'GATS2i'] \n",
      "\u001b[1;46mCluster\u001b[0m 126 ['AATS1s', 'AATS3s'] \n",
      "\u001b[1;46mCluster\u001b[0m 127 ['ATSC0v'] \n",
      "\u001b[1;46mCluster\u001b[0m 128 ['ASP-7', 'AVP-7'] \n",
      "\u001b[1;46mCluster\u001b[0m 129 ['ASP-0'] \n",
      "\u001b[1;46mCluster\u001b[0m 130 ['ETA_Beta_ns', 'ETA_BetaP'] \n",
      "\u001b[1;46mCluster\u001b[0m 131 ['nwHBa', 'nBondsD', 'nTRing', 'FMF', 'nAtomP', 'C2SP2', 'nBondsM', 'nT6Ring', 'RotBtFrac', 'R_TpiPCTPC', 'nBondsD2', 'nRing', 'n6Ring', 'ETA_BetaP_ns'] \n",
      "\u001b[1;46mCluster\u001b[0m 132 ['JGI1'] \n",
      "\u001b[1;46mCluster\u001b[0m 133 ['SpMax1_Bhs', 'ETA_dBetaP'] \n",
      "\u001b[1;46mCluster\u001b[0m 134 ['nHdsCH', 'maxHother', 'minHother', 'SdsCH', 'MDEC-23', 'C3SP2', 'ndsCH', 'MDEC-22', 'SHdsCH', 'minHdsCH', 'maxHdsCH', 'maxdsCH', 'SHother', 'nHother'] \n",
      "\u001b[1;46mCluster\u001b[0m 135 ['maxwHBa', 'mindsCH'] \n",
      "\u001b[1;46mCluster\u001b[0m 136 ['GATS6e', 'GATS6m', 'GATS6s'] \n",
      "\u001b[1;46mCluster\u001b[0m 137 ['AATSC0s'] \n",
      "\u001b[1;46mCluster\u001b[0m 138 ['GATS6p'] \n",
      "\u001b[1;46mCluster\u001b[0m 139 ['SpMin2_Bhs'] \n",
      "\u001b[1;46mCluster\u001b[0m 140 ['MATS1i', 'AATSC1i'] \n",
      "\u001b[1;46mCluster\u001b[0m 141 ['MATS1e', 'SpMin1_Bhs', 'AATSC1e'] \n",
      "\u001b[1;46mCluster\u001b[0m 142 ['AATS2i'] \n",
      "\u001b[1;46mCluster\u001b[0m 143 ['MATS1s', 'AATSC1s'] \n",
      "\u001b[1;46mCluster\u001b[0m 144 ['AATSC1c'] \n",
      "\u001b[1;46mCluster\u001b[0m 145 ['ATSC1v'] \n",
      "\u001b[1;46mCluster\u001b[0m 146 ['MATS1v'] \n",
      "\u001b[1;46mCluster\u001b[0m 147 ['MATS1p', 'AATSC1p'] \n",
      "\u001b[1;46mCluster\u001b[0m 148 ['MLFER_L'] \n",
      "\u001b[1;46mCluster\u001b[0m 149 ['MATS1m', 'BCUTc-1h'] \n",
      "\u001b[1;46mCluster\u001b[0m 150 ['AATS2s'] \n",
      "\u001b[1;46mCluster\u001b[0m 151 ['AATS1i', 'ETA_Epsilon_2'] \n",
      "\u001b[1;46mCluster\u001b[0m 152 ['GATS1i'] \n",
      "\u001b[1;46mCluster\u001b[0m 153 ['meanI'] \n",
      "\u001b[1;46mCluster\u001b[0m 154 ['minHBint6', 'nHBint6', 'maxHBint6', 'SHBint6'] \n",
      "\u001b[1;46mCluster\u001b[0m 155 ['MDEO-11', 'nAcid'] \n",
      "\u001b[1;46mCluster\u001b[0m 156 ['nHBd', 'minHBint3', 'minHsOH', 'SHBd', 'nHsOH', 'maxHBint3', 'maxsOH', 'nHBint3', 'nHBDon', 'minHBd', 'SsOH', 'maxHBd', 'SHsOH', 'nsOH', 'minsOH', 'maxHsOH', 'MLFER_A', 'SHBint3'] \n",
      "\u001b[1;46mCluster\u001b[0m 157 ['minHBint2', 'nHBint2', 'maxHBint2', 'SHBint2'] \n"
     ]
    },
    {
     "name": "stdout",
     "output_type": "stream",
     "text": [
      "\u001b[1;46mCluster\u001b[0m 158 ['minHBint4', 'nHBint4', 'maxHBint4', 'SHBint4'] \n",
      "\u001b[1;46mCluster\u001b[0m 159 ['BCUTc-1l'] \n",
      "\u001b[1;46mCluster\u001b[0m 160 ['MATS5c', 'AATSC5c'] \n",
      "\u001b[1;46mCluster\u001b[0m 161 ['AATSC5i', 'MATS5i', 'ATSC5i'] \n",
      "\u001b[1;46mCluster\u001b[0m 162 ['AATSC5m', 'AATSC5s', 'AATSC5e', 'MATS5e', 'MATS5m', 'MATS5s'] \n",
      "\u001b[1;46mCluster\u001b[0m 163 ['ATSC5e', 'ATSC5s'] \n",
      "\u001b[1;46mCluster\u001b[0m 164 ['ATSC5m'] \n",
      "\u001b[1;46mCluster\u001b[0m 165 ['CIC3', 'IC1'] \n",
      "\u001b[1;46mCluster\u001b[0m 166 ['MATS2m', 'GATS2m'] \n",
      "\u001b[1;46mCluster\u001b[0m 167 ['nHBDon_Lipinski', 'ETA_dEpsilon_D'] \n",
      "\u001b[1;46mCluster\u001b[0m 168 ['SHsNH2', 'maxHsNH2', 'nHsNH2', 'SsNH2', 'nsNH2', 'minHsNH2', 'maxsNH2', 'minsNH2'] \n",
      "\u001b[1;46mCluster\u001b[0m 169 ['nBase'] \n",
      "\u001b[1;46mCluster\u001b[0m 170 ['minssCH2', 'SssCH2'] \n",
      "\u001b[1;46mCluster\u001b[0m 171 ['nssCH2'] \n",
      "\u001b[1;46mCluster\u001b[0m 172 ['AATSC0e'] \n",
      "\u001b[1;46mCluster\u001b[0m 173 ['VE1_D'] \n",
      "\u001b[1;46mCluster\u001b[0m 174 ['AATSC1v'] \n",
      "\u001b[1;46mCluster\u001b[0m 175 ['SpMin5_Bhv', 'SpMin5_Bhp'] \n",
      "\u001b[1;46mCluster\u001b[0m 176 ['SpMin3_Bhe', 'SpMin3_Bhm', 'SpMin3_Bhi'] \n",
      "\u001b[1;46mCluster\u001b[0m 177 ['GATS4s', 'GATS4m', 'GATS4e'] \n",
      "\u001b[1;46mCluster\u001b[0m 178 ['MATS3c', 'AATSC3c'] \n",
      "\u001b[1;46mCluster\u001b[0m 179 ['GATS3i'] \n",
      "\u001b[1;46mCluster\u001b[0m 180 ['AVP-4'] \n",
      "\u001b[1;46mCluster\u001b[0m 181 ['MATS7c', 'AATSC7c'] \n",
      "\u001b[1;46mCluster\u001b[0m 182 ['StsC', 'maxtN', 'StN', 'ntN', 'mintN', 'MDEN-11', 'ntsC', 'nBondsT', 'mintsC', 'C1SP1'] \n",
      "\u001b[1;46mCluster\u001b[0m 183 ['WTPT-5', 'nN'] \n",
      "\u001b[1;46mCluster\u001b[0m 184 ['MDEC-24'] \n",
      "\u001b[1;46mCluster\u001b[0m 185 ['MLFER_S'] \n",
      "\u001b[1;46mCluster\u001b[0m 186 ['MATS6c', 'AATSC6c'] \n",
      "\u001b[1;46mCluster\u001b[0m 187 ['ATSC6c'] \n",
      "\u001b[1;46mCluster\u001b[0m 188 ['ATSC5c'] \n",
      "\u001b[1;46mCluster\u001b[0m 189 ['maxHCsats', 'nHCsats', 'minHCsats', 'SHCsats'] \n",
      "\u001b[1;46mCluster\u001b[0m 190 ['nwHBd', 'minwHBd', 'SHCHnX', 'SwHBd', 'minsssCH', 'nsssCH', 'minHCHnX', 'nHCHnX', 'SsssCH', 'maxwHBd', 'maxHCHnX'] \n",
      "\u001b[1;46mCluster\u001b[0m 191 ['ETA_dEpsilon_B', 'HybRatio'] \n",
      "\u001b[1;46mCluster\u001b[0m 192 ['BCUTw-1l'] \n",
      "\u001b[1;46mCluster\u001b[0m 193 ['ndssC'] \n",
      "\u001b[1;46mCluster\u001b[0m 194 ['SdssC'] \n",
      "\u001b[1;46mCluster\u001b[0m 195 ['MDEC-33'] \n",
      "\u001b[1;46mCluster\u001b[0m 196 ['ETA_Shape_Y'] \n",
      "\u001b[1;46mCluster\u001b[0m 197 ['AATSC6s', 'MATS6s'] \n",
      "\u001b[1;46mCluster\u001b[0m 198 ['maxsOm', 'SsOm', 'nsOm', 'minsOm'] \n",
      "\u001b[1;46mCluster\u001b[0m 199 ['maxdssC'] \n",
      "\u001b[1;46mCluster\u001b[0m 200 ['AATSC7m', 'MATS7s', 'MATS7i', 'MATS7m', 'MATS7e', 'AATSC7s', 'AATSC7i', 'AATSC7e'] \n",
      "\u001b[1;46mCluster\u001b[0m 201 ['MDEC-13', 'ATSC7m', 'SsCH3', 'ATSC7s', 'ATSC7i', 'ATSC7e', 'minsCH3', 'maxsCH3'] \n",
      "\u001b[1;46mCluster\u001b[0m 202 ['AATSC6v', 'AATSC6i', 'MATS6v', 'MATS6i', 'ATSC6v', 'ATSC6i'] \n",
      "\u001b[1;46mCluster\u001b[0m 203 ['ATSC6p'] \n",
      "\u001b[1;46mCluster\u001b[0m 204 ['MATS4i', 'AATSC4i'] \n",
      "\u001b[1;46mCluster\u001b[0m 205 ['ATSC4i', 'ATSC4s', 'ATSC4e'] \n",
      "\u001b[1;46mCluster\u001b[0m 206 ['MATS4c', 'AATSC4c'] \n",
      "\u001b[1;46mCluster\u001b[0m 207 ['ATSC3c'] \n",
      "\u001b[1;46mCluster\u001b[0m 208 ['ATSC4c'] \n",
      "\u001b[1;46mCluster\u001b[0m 209 ['nHBint5', 'maxHBint5', 'minHBint5', 'SHBint5'] \n",
      "\u001b[1;46mCluster\u001b[0m 210 ['MDEC-14', 'MATS7v', 'AATSC7v', 'ATSC7v'] \n",
      "\u001b[1;46mCluster\u001b[0m 211 ['AATSC5v', 'AATSC5p', 'MATS5v', 'MATS5p', 'ATSC5v', 'ATSC5p'] \n",
      "\u001b[1;46mCluster\u001b[0m 212 ['AATSC6p', 'AATSC6e', 'AATSC6m', 'MATS6p', 'MATS6m', 'MATS6e'] \n",
      "\u001b[1;46mCluster\u001b[0m 213 ['ATSC6s', 'ATSC6m', 'ATSC6e', 'nsCH3'] \n",
      "\u001b[1;46mCluster\u001b[0m 214 ['nCl', 'nsCl'] \n",
      "\u001b[1;46mCluster\u001b[0m 215 ['MATS3m', 'GATS3m'] \n",
      "\u001b[1;46mCluster\u001b[0m 216 ['MATS3s', 'ATSC3s', 'GATS3s', 'AATSC3s'] \n",
      "\u001b[1;46mCluster\u001b[0m 217 ['MATS3e', 'MATS3i', 'ATSC3e', 'ATSC3i', 'AATSC3e', 'AATSC3i'] \n",
      "\u001b[1;46mCluster\u001b[0m 218 ['GATS3e'] \n",
      "\u001b[1;46mCluster\u001b[0m 219 ['ATSC3m', 'AATSC3m', 'AATSC3p'] \n",
      "\u001b[1;46mCluster\u001b[0m 220 ['MATS2p', 'GATS3p', 'GATS3v'] \n",
      "\u001b[1;46mCluster\u001b[0m 221 ['GATS2p'] \n",
      "\u001b[1;46mCluster\u001b[0m 222 ['AATSC2p', 'ATSC2p'] \n",
      "\u001b[1;46mCluster\u001b[0m 223 ['GATS2v'] \n",
      "\u001b[1;46mCluster\u001b[0m 224 ['MATS3v', 'MATS3p', 'ATSC3p', 'AATSC3v'] \n",
      "\u001b[1;46mCluster\u001b[0m 225 ['ATSC3v'] \n",
      "\u001b[1;46mCluster\u001b[0m 226 ['SCH-5', 'VCH-5', 'n5Ring', 'SRW9', 'SRW7', 'SRW5', 'nT5Ring'] \n",
      "\u001b[1;46mCluster\u001b[0m 227 ['SCH-6', 'SCH-7', 'VCH-7', 'VCH-6'] \n",
      "\u001b[1;46mCluster\u001b[0m 228 ['VR2_Dt', 'VR2_DzZ', 'VR2_Dzm', 'VR2_Dzv', 'VR2_D', 'VR1_Dzp'] \n",
      "\u001b[1;46mCluster\u001b[0m 229 ['VR1_Dzs', 'VR2_Dzs'] \n",
      "\u001b[1;46mCluster\u001b[0m 230 ['VR1_Dzi', 'VR1_DzZ', 'VR2_Dze', 'VR2_Dzi', 'VR1_D', 'VR1_Dt', 'VR1_Dzv', 'VR1_Dzm', 'VR1_Dze'] \n",
      "\u001b[1;46mCluster\u001b[0m 231 ['AATSC2v'] \n",
      "\u001b[1;46mCluster\u001b[0m 232 ['MATS2v'] \n",
      "\u001b[1;46mCluster\u001b[0m 233 ['ATSC2v'] \n",
      "\u001b[1;46mCluster\u001b[0m 234 ['minHBa'] \n",
      "\u001b[1;46mCluster\u001b[0m 235 ['MATS4v', 'MATS4p', 'ATSC4p', 'ATSC4v', 'AATSC4v', 'AATSC4p'] \n",
      "\u001b[1;46mCluster\u001b[0m 236 ['MDEC-34'] \n",
      "\u001b[1;46mCluster\u001b[0m 237 ['MATS4e', 'MATS4m', 'MATS4s', 'AATSC4s', 'AATSC4e'] \n",
      "\u001b[1;46mCluster\u001b[0m 238 ['mindCH2', 'minHdCH2', 'SdCH2', 'nHdCH2', 'ndCH2', 'maxHdCH2', 'maxdCH2', 'SHdCH2'] \n",
      "\u001b[1;46mCluster\u001b[0m 239 ['MDEC-12'] \n",
      "\u001b[1;46mCluster\u001b[0m 240 ['VR2_Dzp'] \n",
      "\u001b[1;46mCluster\u001b[0m 241 ['minsI', 'SsI', 'nsI', 'nI'] \n",
      "\u001b[1;46mCluster\u001b[0m 242 ['ATSC4m', 'AATSC4m'] \n",
      "\u001b[1;46mCluster\u001b[0m 243 ['minsCl', 'SsCl'] \n",
      "\u001b[1;46mCluster\u001b[0m 244 ['maxsBr', 'maxssCH2', 'maxsssCH'] \n",
      "\u001b[1;46mCluster\u001b[0m 245 ['maxsCl'] \n",
      "\u001b[1;46mCluster\u001b[0m 246 ['C3SP3'] \n",
      "\u001b[1;46mCluster\u001b[0m 247 ['SsssN', 'nsssN', 'minsssN'] \n",
      "\u001b[1;46mCluster\u001b[0m 248 ['C1SP3'] \n",
      "\u001b[1;46mCluster\u001b[0m 249 ['PetitjeanNumber', 'topoShape'] \n",
      "\u001b[1;46mCluster\u001b[0m 250 ['RotBFrac'] \n",
      "\u001b[1;46mCluster\u001b[0m 251 ['nAtomLAC'] \n",
      "\u001b[1;46mCluster\u001b[0m 252 ['SpMin4_Bhv'] \n",
      "\u001b[1;46mCluster\u001b[0m 253 ['nHBAcc_Lipinski', 'nHBAcc', 'WTPT-4', 'nO'] \n",
      "\u001b[1;46mCluster\u001b[0m 254 ['MLFER_BH', 'MLFER_BO', 'TopoPSA'] \n",
      "\u001b[1;46mCluster\u001b[0m 255 ['ATSC1s'] \n",
      "\u001b[1;46mCluster\u001b[0m 256 ['SssO', 'minssO', 'maxssO'] \n",
      "\u001b[1;46mCluster\u001b[0m 257 ['MATS7p', 'ATSC7p', 'AATSC7p'] \n",
      "\u001b[1;46mCluster\u001b[0m 258 ['GATS7e', 'GATS7m', 'GATS7v', 'GATS7s'] \n",
      "\u001b[1;46mCluster\u001b[0m 259 ['mindssC', 'minwHBa'] \n",
      "\u001b[1;46mCluster\u001b[0m 260 ['ndO', 'mindO', 'SdO', 'maxdO'] \n",
      "\u001b[1;46mCluster\u001b[0m 261 ['MDEO-12'] \n",
      "\u001b[1;46mCluster\u001b[0m 262 ['C1SP2'] \n",
      "\u001b[1;46mCluster\u001b[0m 263 ['SpMin1_Bhm', 'ETA_Shape_P'] \n",
      "\u001b[1;46mCluster\u001b[0m 264 ['SpMin4_Bhs', 'SpMin5_Bhs'] \n",
      "\u001b[1;46mCluster\u001b[0m 265 ['SpMin3_Bhs'] \n",
      "\u001b[1;46mCluster\u001b[0m 266 ['SpMin4_Bhm', 'SpMin5_Bhm'] \n",
      "\u001b[1;46mCluster\u001b[0m 267 ['ASP-4'] \n",
      "\u001b[1;46mCluster\u001b[0m 268 ['GATS5s', 'GATS5m', 'GATS5e'] \n",
      "\u001b[1;46mCluster\u001b[0m 269 ['BIC3', 'SIC3', 'IC2'] \n",
      "\u001b[1;46mCluster\u001b[0m 270 ['Mv', 'AATS2v', 'AATS1v'] \n",
      "\u001b[1;46mCluster\u001b[0m 271 ['AATS0v'] \n",
      "\u001b[1;46mCluster\u001b[0m 272 ['BCUTp-1h', 'AATS3p'] \n",
      "\u001b[1;46mCluster\u001b[0m 273 ['hmin'] \n",
      "\u001b[1;46mCluster\u001b[0m 274 ['VC-3', 'VC-5', 'VC-6', 'VC-4'] \n",
      "\u001b[1;46mCluster\u001b[0m 275 ['ATS0m', 'SpMax2_Bhm', 'MIC2'] \n",
      "\u001b[1;46mCluster\u001b[0m 276 ['ATSC0p'] \n",
      "\u001b[1;46mCluster\u001b[0m 277 ['MIC3'] \n",
      "\u001b[1;46mCluster\u001b[0m 278 ['ETA_EtaP_F_L', 'ETA_EtaP_L'] \n",
      "\u001b[1;46mCluster\u001b[0m 279 ['AMW', 'AATS3m', 'AATS1m'] \n",
      "\u001b[1;46mCluster\u001b[0m 280 ['AATSC2m', 'ATSC2m'] \n",
      "\u001b[1;46mCluster\u001b[0m 281 ['minsBr', 'MIC0', 'ATSC0m', 'AATS2m', 'nsBr', 'SpMax1_Bhm', 'ETA_dAlpha_A', 'BCUTw-1h', 'SsBr', 'AATSC0p', 'AATSC0m', 'nBr', 'AATS0m', 'ATSC1m', 'MIC1', 'AATSC1m'] \n",
      "\u001b[1;46mCluster\u001b[0m 282 ['Mp', 'AATS1p', 'AATS0p', 'GATS1p'] \n",
      "\u001b[1;46mCluster\u001b[0m 283 ['AATS2p', 'BCUTp-1l'] \n",
      "\u001b[1;46mCluster\u001b[0m 284 ['ETA_Psi_1', 'ETA_dPsi_A'] \n",
      "\u001b[1;46mCluster\u001b[0m 285 ['AVP-0', 'AVP-3', 'AVP-2', 'ETA_AlphaP', 'AVP-1', 'ETA_dAlpha_B'] \n",
      "\u001b[1;46mCluster\u001b[0m 286 ['GATS1v']\n"
     ]
    }
   ],
   "source": [
    "# clustering\n",
    "clust = cl.FeatureCluster(X_data, 'average', 3)\n",
    "clust_info = clust.set_cluster()"
   ]
  },
  {
   "cell_type": "code",
   "execution_count": 19,
   "metadata": {},
   "outputs": [
    {
     "data": {
      "image/png": "[encoded data removed]",
      "text/plain": [
       "<Figure size 432x288 with 1 Axes>"
      ]
     },
     "metadata": {
      "needs_background": "light"
     },
     "output_type": "display_data"
    }
   ],
   "source": [
    "clust.cluster_dist()"
   ]
  },
  {
   "cell_type": "markdown",
   "metadata": {},
   "source": [
    "# Feature selection using single core"
   ]
  },
  {
   "cell_type": "code",
   "execution_count": 36,
   "metadata": {},
   "outputs": [
    {
     "name": "stdout",
     "output_type": "stream",
     "text": [
      "Start time :  12:55:03\n",
      "\u001b[1;42mRegression\u001b[0m\n",
      "1000 => 12:57:48 [0.819406826332812, ['ETA_Eta_L', 'TopoPSA', 'nRotB', 'nsssCH']]\n",
      "2000 => 13:00:33 [0.819406826332812, ['ETA_Eta_L', 'TopoPSA', 'nRotB', 'nsssCH']]\n",
      "3000 => 13:03:20 [0.819406826332812, ['ETA_Eta_L', 'TopoPSA', 'nRotB', 'nsssCH']]\n",
      "4000 => 13:06:07 [0.819406826332812, ['ETA_Eta_L', 'TopoPSA', 'nRotB', 'nsssCH']]\n",
      "5000 => 13:08:53 [0.819406826332812, ['ETA_Eta_L', 'TopoPSA', 'nRotB', 'nsssCH']]\n",
      "6000 => 13:11:39 [0.819406826332812, ['ETA_Eta_L', 'TopoPSA', 'nRotB', 'nsssCH']]\n",
      "7000 => 13:14:26 [0.819406826332812, ['ETA_Eta_L', 'TopoPSA', 'nRotB', 'nsssCH']]\n",
      "8000 => 13:17:12 [0.819406826332812, ['ETA_Eta_L', 'TopoPSA', 'nRotB', 'nsssCH']]\n",
      "9000 => 13:19:59 [0.819406826332812, ['ETA_Eta_L', 'TopoPSA', 'nRotB', 'nsssCH']]\n",
      "10000 => 13:22:45 [0.819406826332812, ['ETA_Eta_L', 'TopoPSA', 'nRotB', 'nsssCH']]\n",
      "[0.819406826332812, ['ETA_Eta_L', 'TopoPSA', 'nRotB', 'nsssCH']]\n",
      "Model's cluster info [67, 254, 9, 190]\n",
      "Finish time :  13:22:45\n"
     ]
    }
   ],
   "source": [
    "from pyqsar import feature_selection_single as fss\n",
    "select = fss.selection(X_data, y_data,\n",
    "                       clust_info,\n",
    "                       model='regression',\n",
    "                       learning=10000,\n",
    "                       bank=200,\n",
    "                       component=4)"
   ]
  },
  {
   "cell_type": "code",
   "execution_count": 37,
   "metadata": {},
   "outputs": [
    {
     "data": {
      "text/plain": [
       "['ETA_Eta_L', 'TopoPSA', 'nRotB', 'nsssCH']"
      ]
     },
     "execution_count": 37,
     "metadata": {},
     "output_type": "execute_result"
    }
   ],
   "source": [
    "select"
   ]
  },
  {
   "cell_type": "markdown",
   "metadata": {},
   "source": [
    "# Feature selection using multi core"
   ]
  },
  {
   "cell_type": "code",
   "execution_count": 38,
   "metadata": {},
   "outputs": [
    {
     "name": "stdout",
     "output_type": "stream",
     "text": [
      "\u001b[1;42mRegression\u001b[0m\n"
     ]
    }
   ],
   "source": [
    "from pyqsar import feature_selection_multi as fsm\n",
    "select_m = fsm.MultiSelection(X_data, y_data,\n",
    "                              clust_info,\n",
    "                              model='regression',\n",
    "                              learning=10000,\n",
    "                              bank=200,\n",
    "                              component=4)"
   ]
  },
  {
   "cell_type": "code",
   "execution_count": 39,
   "metadata": {},
   "outputs": [
    {
     "name": "stdout",
     "output_type": "stream",
     "text": [
      "[0.8242128178032906, ['MLFER_E', 'XLogP', 'nssssC', 'nwHBd']]\n",
      "[0.8242128178032906, ['MLFER_E', 'XLogP', 'nssssC', 'nwHBd']]\n",
      "[0.8242128178032906, ['MLFER_E', 'XLogP', 'nssssC', 'nwHBd']]\n"
     ]
    },
    {
     "data": {
      "text/plain": [
       "['MLFER_E', 'XLogP', 'nssssC', 'nwHBd']"
      ]
     },
     "execution_count": 39,
     "metadata": {},
     "output_type": "execute_result"
    }
   ],
   "source": [
    "select_m.run(n_core=4, run_job=3) #run_job : Number of times to perform the selection function"
   ]
  },
  {
   "cell_type": "markdown",
   "metadata": {},
   "source": [
    "# Export model"
   ]
  },
  {
   "cell_type": "code",
   "execution_count": 40,
   "metadata": {},
   "outputs": [],
   "source": [
    "from pyqsar import export_model as em\n",
    "feature_set = select\n",
    "mymodel = em.ModelExport(X_data,y_data, feature_set)"
   ]
  },
  {
   "cell_type": "code",
   "execution_count": 41,
   "metadata": {},
   "outputs": [
    {
     "data": {
      "text/html": [
       "<div>\n",
       "<style scoped>\n",
       "    .dataframe tbody tr th:only-of-type {\n",
       "        vertical-align: middle;\n",
       "    }\n",
       "\n",
       "    .dataframe tbody tr th {\n",
       "        vertical-align: top;\n",
       "    }\n",
       "\n",
       "    .dataframe thead th {\n",
       "        text-align: right;\n",
       "    }\n",
       "</style>\n",
       "<table border=\"1\" class=\"dataframe\">\n",
       "  <thead>\n",
       "    <tr style=\"text-align: right;\">\n",
       "      <th></th>\n",
       "      <th>ETA_Eta_L</th>\n",
       "      <th>TopoPSA</th>\n",
       "      <th>nRotB</th>\n",
       "      <th>nsssCH</th>\n",
       "      <th>end_point</th>\n",
       "    </tr>\n",
       "  </thead>\n",
       "  <tbody>\n",
       "    <tr>\n",
       "      <th>0</th>\n",
       "      <td>0.076912</td>\n",
       "      <td>0.000000</td>\n",
       "      <td>0.000</td>\n",
       "      <td>0.000000</td>\n",
       "      <td>2.592</td>\n",
       "    </tr>\n",
       "    <tr>\n",
       "      <th>1</th>\n",
       "      <td>0.075974</td>\n",
       "      <td>0.425179</td>\n",
       "      <td>0.125</td>\n",
       "      <td>0.000000</td>\n",
       "      <td>4.538</td>\n",
       "    </tr>\n",
       "    <tr>\n",
       "      <th>2</th>\n",
       "      <td>0.051074</td>\n",
       "      <td>0.783943</td>\n",
       "      <td>0.125</td>\n",
       "      <td>0.000000</td>\n",
       "      <td>3.927</td>\n",
       "    </tr>\n",
       "    <tr>\n",
       "      <th>3</th>\n",
       "      <td>0.214634</td>\n",
       "      <td>0.000000</td>\n",
       "      <td>0.125</td>\n",
       "      <td>0.000000</td>\n",
       "      <td>2.858</td>\n",
       "    </tr>\n",
       "    <tr>\n",
       "      <th>4</th>\n",
       "      <td>0.191665</td>\n",
       "      <td>0.425179</td>\n",
       "      <td>0.250</td>\n",
       "      <td>0.333333</td>\n",
       "      <td>4.186</td>\n",
       "    </tr>\n",
       "    <tr>\n",
       "      <th>5</th>\n",
       "      <td>0.025441</td>\n",
       "      <td>0.000000</td>\n",
       "      <td>0.000</td>\n",
       "      <td>0.000000</td>\n",
       "      <td>1.589</td>\n",
       "    </tr>\n",
       "    <tr>\n",
       "      <th>6</th>\n",
       "      <td>0.197563</td>\n",
       "      <td>0.000000</td>\n",
       "      <td>0.125</td>\n",
       "      <td>0.000000</td>\n",
       "      <td>3.200</td>\n",
       "    </tr>\n",
       "    <tr>\n",
       "      <th>7</th>\n",
       "      <td>0.242089</td>\n",
       "      <td>0.546868</td>\n",
       "      <td>0.125</td>\n",
       "      <td>0.000000</td>\n",
       "      <td>5.368</td>\n",
       "    </tr>\n",
       "    <tr>\n",
       "      <th>8</th>\n",
       "      <td>0.251004</td>\n",
       "      <td>0.906683</td>\n",
       "      <td>0.250</td>\n",
       "      <td>0.000000</td>\n",
       "      <td>5.337</td>\n",
       "    </tr>\n",
       "    <tr>\n",
       "      <th>9</th>\n",
       "      <td>0.260168</td>\n",
       "      <td>0.000000</td>\n",
       "      <td>0.125</td>\n",
       "      <td>0.000000</td>\n",
       "      <td>3.956</td>\n",
       "    </tr>\n",
       "    <tr>\n",
       "      <th>10</th>\n",
       "      <td>0.000000</td>\n",
       "      <td>0.000000</td>\n",
       "      <td>0.000</td>\n",
       "      <td>0.000000</td>\n",
       "      <td>2.845</td>\n",
       "    </tr>\n",
       "    <tr>\n",
       "      <th>11</th>\n",
       "      <td>0.138437</td>\n",
       "      <td>0.000000</td>\n",
       "      <td>0.125</td>\n",
       "      <td>0.000000</td>\n",
       "      <td>2.301</td>\n",
       "    </tr>\n",
       "    <tr>\n",
       "      <th>12</th>\n",
       "      <td>0.316897</td>\n",
       "      <td>0.000000</td>\n",
       "      <td>0.125</td>\n",
       "      <td>0.000000</td>\n",
       "      <td>2.938</td>\n",
       "    </tr>\n",
       "    <tr>\n",
       "      <th>13</th>\n",
       "      <td>0.242916</td>\n",
       "      <td>0.358764</td>\n",
       "      <td>0.250</td>\n",
       "      <td>0.000000</td>\n",
       "      <td>4.645</td>\n",
       "    </tr>\n",
       "    <tr>\n",
       "      <th>14</th>\n",
       "      <td>0.250706</td>\n",
       "      <td>0.000000</td>\n",
       "      <td>0.125</td>\n",
       "      <td>0.333333</td>\n",
       "      <td>3.304</td>\n",
       "    </tr>\n",
       "    <tr>\n",
       "      <th>15</th>\n",
       "      <td>0.329718</td>\n",
       "      <td>0.000000</td>\n",
       "      <td>0.250</td>\n",
       "      <td>0.000000</td>\n",
       "      <td>3.952</td>\n",
       "    </tr>\n",
       "    <tr>\n",
       "      <th>16</th>\n",
       "      <td>0.169389</td>\n",
       "      <td>0.000000</td>\n",
       "      <td>0.125</td>\n",
       "      <td>0.333333</td>\n",
       "      <td>0.315</td>\n",
       "    </tr>\n",
       "    <tr>\n",
       "      <th>17</th>\n",
       "      <td>1.000000</td>\n",
       "      <td>0.193989</td>\n",
       "      <td>1.000</td>\n",
       "      <td>0.000000</td>\n",
       "      <td>3.962</td>\n",
       "    </tr>\n",
       "    <tr>\n",
       "      <th>18</th>\n",
       "      <td>0.563437</td>\n",
       "      <td>0.000000</td>\n",
       "      <td>0.000</td>\n",
       "      <td>0.000000</td>\n",
       "      <td>5.511</td>\n",
       "    </tr>\n",
       "    <tr>\n",
       "      <th>19</th>\n",
       "      <td>0.230165</td>\n",
       "      <td>0.000000</td>\n",
       "      <td>0.125</td>\n",
       "      <td>0.333333</td>\n",
       "      <td>3.227</td>\n",
       "    </tr>\n",
       "    <tr>\n",
       "      <th>20</th>\n",
       "      <td>0.130778</td>\n",
       "      <td>0.000000</td>\n",
       "      <td>0.125</td>\n",
       "      <td>0.333333</td>\n",
       "      <td>1.989</td>\n",
       "    </tr>\n",
       "    <tr>\n",
       "      <th>21</th>\n",
       "      <td>0.102078</td>\n",
       "      <td>0.000000</td>\n",
       "      <td>0.125</td>\n",
       "      <td>0.333333</td>\n",
       "      <td>1.642</td>\n",
       "    </tr>\n",
       "    <tr>\n",
       "      <th>22</th>\n",
       "      <td>0.347002</td>\n",
       "      <td>0.000000</td>\n",
       "      <td>0.125</td>\n",
       "      <td>0.000000</td>\n",
       "      <td>4.099</td>\n",
       "    </tr>\n",
       "    <tr>\n",
       "      <th>23</th>\n",
       "      <td>0.435645</td>\n",
       "      <td>0.193989</td>\n",
       "      <td>0.500</td>\n",
       "      <td>0.000000</td>\n",
       "      <td>3.157</td>\n",
       "    </tr>\n",
       "    <tr>\n",
       "      <th>24</th>\n",
       "      <td>0.742482</td>\n",
       "      <td>0.068096</td>\n",
       "      <td>0.750</td>\n",
       "      <td>0.000000</td>\n",
       "      <td>2.442</td>\n",
       "    </tr>\n",
       "    <tr>\n",
       "      <th>25</th>\n",
       "      <td>0.440550</td>\n",
       "      <td>0.193989</td>\n",
       "      <td>0.500</td>\n",
       "      <td>0.000000</td>\n",
       "      <td>3.692</td>\n",
       "    </tr>\n",
       "    <tr>\n",
       "      <th>26</th>\n",
       "      <td>0.424680</td>\n",
       "      <td>1.000000</td>\n",
       "      <td>0.375</td>\n",
       "      <td>0.000000</td>\n",
       "      <td>6.255</td>\n",
       "    </tr>\n",
       "    <tr>\n",
       "      <th>27</th>\n",
       "      <td>0.283550</td>\n",
       "      <td>1.000000</td>\n",
       "      <td>0.250</td>\n",
       "      <td>0.000000</td>\n",
       "      <td>6.542</td>\n",
       "    </tr>\n",
       "    <tr>\n",
       "      <th>28</th>\n",
       "      <td>0.358239</td>\n",
       "      <td>0.977932</td>\n",
       "      <td>0.500</td>\n",
       "      <td>0.000000</td>\n",
       "      <td>4.545</td>\n",
       "    </tr>\n",
       "    <tr>\n",
       "      <th>29</th>\n",
       "      <td>0.250314</td>\n",
       "      <td>0.552753</td>\n",
       "      <td>0.375</td>\n",
       "      <td>0.000000</td>\n",
       "      <td>3.889</td>\n",
       "    </tr>\n",
       "    <tr>\n",
       "      <th>30</th>\n",
       "      <td>0.243892</td>\n",
       "      <td>0.000000</td>\n",
       "      <td>0.000</td>\n",
       "      <td>0.000000</td>\n",
       "      <td>3.292</td>\n",
       "    </tr>\n",
       "    <tr>\n",
       "      <th>31</th>\n",
       "      <td>0.219515</td>\n",
       "      <td>0.000000</td>\n",
       "      <td>0.125</td>\n",
       "      <td>0.000000</td>\n",
       "      <td>2.832</td>\n",
       "    </tr>\n",
       "    <tr>\n",
       "      <th>32</th>\n",
       "      <td>0.217828</td>\n",
       "      <td>0.425179</td>\n",
       "      <td>0.250</td>\n",
       "      <td>0.000000</td>\n",
       "      <td>4.176</td>\n",
       "    </tr>\n",
       "    <tr>\n",
       "      <th>33</th>\n",
       "      <td>0.329519</td>\n",
       "      <td>0.000000</td>\n",
       "      <td>0.250</td>\n",
       "      <td>0.333333</td>\n",
       "      <td>1.277</td>\n",
       "    </tr>\n",
       "    <tr>\n",
       "      <th>34</th>\n",
       "      <td>0.191933</td>\n",
       "      <td>0.783943</td>\n",
       "      <td>0.250</td>\n",
       "      <td>0.000000</td>\n",
       "      <td>3.893</td>\n",
       "    </tr>\n",
       "    <tr>\n",
       "      <th>35</th>\n",
       "      <td>0.354732</td>\n",
       "      <td>0.552753</td>\n",
       "      <td>0.500</td>\n",
       "      <td>0.000000</td>\n",
       "      <td>4.746</td>\n",
       "    </tr>\n",
       "    <tr>\n",
       "      <th>36</th>\n",
       "      <td>0.462668</td>\n",
       "      <td>0.000000</td>\n",
       "      <td>0.250</td>\n",
       "      <td>0.333333</td>\n",
       "      <td>1.582</td>\n",
       "    </tr>\n",
       "    <tr>\n",
       "      <th>37</th>\n",
       "      <td>0.173424</td>\n",
       "      <td>0.546868</td>\n",
       "      <td>0.250</td>\n",
       "      <td>0.000000</td>\n",
       "      <td>5.275</td>\n",
       "    </tr>\n",
       "    <tr>\n",
       "      <th>38</th>\n",
       "      <td>0.252309</td>\n",
       "      <td>0.000000</td>\n",
       "      <td>0.250</td>\n",
       "      <td>0.333333</td>\n",
       "      <td>0.842</td>\n",
       "    </tr>\n",
       "    <tr>\n",
       "      <th>39</th>\n",
       "      <td>0.040424</td>\n",
       "      <td>0.000000</td>\n",
       "      <td>0.125</td>\n",
       "      <td>0.000000</td>\n",
       "      <td>1.739</td>\n",
       "    </tr>\n",
       "    <tr>\n",
       "      <th>40</th>\n",
       "      <td>0.422308</td>\n",
       "      <td>0.000000</td>\n",
       "      <td>0.000</td>\n",
       "      <td>0.000000</td>\n",
       "      <td>5.067</td>\n",
       "    </tr>\n",
       "    <tr>\n",
       "      <th>41</th>\n",
       "      <td>0.083526</td>\n",
       "      <td>0.546868</td>\n",
       "      <td>0.125</td>\n",
       "      <td>0.000000</td>\n",
       "      <td>4.376</td>\n",
       "    </tr>\n",
       "    <tr>\n",
       "      <th>42</th>\n",
       "      <td>0.378880</td>\n",
       "      <td>0.000000</td>\n",
       "      <td>0.250</td>\n",
       "      <td>0.000000</td>\n",
       "      <td>2.865</td>\n",
       "    </tr>\n",
       "    <tr>\n",
       "      <th>43</th>\n",
       "      <td>0.455903</td>\n",
       "      <td>0.000000</td>\n",
       "      <td>0.000</td>\n",
       "      <td>0.000000</td>\n",
       "      <td>5.363</td>\n",
       "    </tr>\n",
       "    <tr>\n",
       "      <th>44</th>\n",
       "      <td>0.070104</td>\n",
       "      <td>0.000000</td>\n",
       "      <td>0.125</td>\n",
       "      <td>0.000000</td>\n",
       "      <td>1.778</td>\n",
       "    </tr>\n",
       "    <tr>\n",
       "      <th>45</th>\n",
       "      <td>0.414711</td>\n",
       "      <td>0.425179</td>\n",
       "      <td>0.375</td>\n",
       "      <td>0.000000</td>\n",
       "      <td>4.363</td>\n",
       "    </tr>\n",
       "    <tr>\n",
       "      <th>46</th>\n",
       "      <td>0.329718</td>\n",
       "      <td>0.000000</td>\n",
       "      <td>0.250</td>\n",
       "      <td>0.000000</td>\n",
       "      <td>3.582</td>\n",
       "    </tr>\n",
       "    <tr>\n",
       "      <th>47</th>\n",
       "      <td>0.274969</td>\n",
       "      <td>0.193989</td>\n",
       "      <td>0.375</td>\n",
       "      <td>0.666667</td>\n",
       "      <td>1.357</td>\n",
       "    </tr>\n",
       "    <tr>\n",
       "      <th>48</th>\n",
       "      <td>0.277455</td>\n",
       "      <td>0.000000</td>\n",
       "      <td>0.250</td>\n",
       "      <td>0.666667</td>\n",
       "      <td>0.823</td>\n",
       "    </tr>\n",
       "    <tr>\n",
       "      <th>49</th>\n",
       "      <td>0.227926</td>\n",
       "      <td>0.000000</td>\n",
       "      <td>0.250</td>\n",
       "      <td>1.000000</td>\n",
       "      <td>0.269</td>\n",
       "    </tr>\n",
       "    <tr>\n",
       "      <th>50</th>\n",
       "      <td>0.272955</td>\n",
       "      <td>0.193989</td>\n",
       "      <td>0.375</td>\n",
       "      <td>0.666667</td>\n",
       "      <td>1.041</td>\n",
       "    </tr>\n",
       "    <tr>\n",
       "      <th>51</th>\n",
       "      <td>0.345182</td>\n",
       "      <td>0.193989</td>\n",
       "      <td>0.500</td>\n",
       "      <td>0.333333</td>\n",
       "      <td>0.849</td>\n",
       "    </tr>\n",
       "    <tr>\n",
       "      <th>52</th>\n",
       "      <td>0.359215</td>\n",
       "      <td>0.000000</td>\n",
       "      <td>0.125</td>\n",
       "      <td>0.000000</td>\n",
       "      <td>4.099</td>\n",
       "    </tr>\n",
       "    <tr>\n",
       "      <th>53</th>\n",
       "      <td>0.455766</td>\n",
       "      <td>0.425179</td>\n",
       "      <td>0.375</td>\n",
       "      <td>0.000000</td>\n",
       "      <td>4.344</td>\n",
       "    </tr>\n",
       "    <tr>\n",
       "      <th>54</th>\n",
       "      <td>0.802327</td>\n",
       "      <td>0.746742</td>\n",
       "      <td>1.000</td>\n",
       "      <td>0.000000</td>\n",
       "      <td>4.960</td>\n",
       "    </tr>\n",
       "    <tr>\n",
       "      <th>55</th>\n",
       "      <td>0.314736</td>\n",
       "      <td>0.000000</td>\n",
       "      <td>0.250</td>\n",
       "      <td>0.000000</td>\n",
       "      <td>3.607</td>\n",
       "    </tr>\n",
       "  </tbody>\n",
       "</table>\n",
       "</div>"
      ],
      "text/plain": [
       "    ETA_Eta_L   TopoPSA  nRotB    nsssCH  end_point\n",
       "0    0.076912  0.000000  0.000  0.000000      2.592\n",
       "1    0.075974  0.425179  0.125  0.000000      4.538\n",
       "2    0.051074  0.783943  0.125  0.000000      3.927\n",
       "3    0.214634  0.000000  0.125  0.000000      2.858\n",
       "4    0.191665  0.425179  0.250  0.333333      4.186\n",
       "5    0.025441  0.000000  0.000  0.000000      1.589\n",
       "6    0.197563  0.000000  0.125  0.000000      3.200\n",
       "7    0.242089  0.546868  0.125  0.000000      5.368\n",
       "8    0.251004  0.906683  0.250  0.000000      5.337\n",
       "9    0.260168  0.000000  0.125  0.000000      3.956\n",
       "10   0.000000  0.000000  0.000  0.000000      2.845\n",
       "11   0.138437  0.000000  0.125  0.000000      2.301\n",
       "12   0.316897  0.000000  0.125  0.000000      2.938\n",
       "13   0.242916  0.358764  0.250  0.000000      4.645\n",
       "14   0.250706  0.000000  0.125  0.333333      3.304\n",
       "15   0.329718  0.000000  0.250  0.000000      3.952\n",
       "16   0.169389  0.000000  0.125  0.333333      0.315\n",
       "17   1.000000  0.193989  1.000  0.000000      3.962\n",
       "18   0.563437  0.000000  0.000  0.000000      5.511\n",
       "19   0.230165  0.000000  0.125  0.333333      3.227\n",
       "20   0.130778  0.000000  0.125  0.333333      1.989\n",
       "21   0.102078  0.000000  0.125  0.333333      1.642\n",
       "22   0.347002  0.000000  0.125  0.000000      4.099\n",
       "23   0.435645  0.193989  0.500  0.000000      3.157\n",
       "24   0.742482  0.068096  0.750  0.000000      2.442\n",
       "25   0.440550  0.193989  0.500  0.000000      3.692\n",
       "26   0.424680  1.000000  0.375  0.000000      6.255\n",
       "27   0.283550  1.000000  0.250  0.000000      6.542\n",
       "28   0.358239  0.977932  0.500  0.000000      4.545\n",
       "29   0.250314  0.552753  0.375  0.000000      3.889\n",
       "30   0.243892  0.000000  0.000  0.000000      3.292\n",
       "31   0.219515  0.000000  0.125  0.000000      2.832\n",
       "32   0.217828  0.425179  0.250  0.000000      4.176\n",
       "33   0.329519  0.000000  0.250  0.333333      1.277\n",
       "34   0.191933  0.783943  0.250  0.000000      3.893\n",
       "35   0.354732  0.552753  0.500  0.000000      4.746\n",
       "36   0.462668  0.000000  0.250  0.333333      1.582\n",
       "37   0.173424  0.546868  0.250  0.000000      5.275\n",
       "38   0.252309  0.000000  0.250  0.333333      0.842\n",
       "39   0.040424  0.000000  0.125  0.000000      1.739\n",
       "40   0.422308  0.000000  0.000  0.000000      5.067\n",
       "41   0.083526  0.546868  0.125  0.000000      4.376\n",
       "42   0.378880  0.000000  0.250  0.000000      2.865\n",
       "43   0.455903  0.000000  0.000  0.000000      5.363\n",
       "44   0.070104  0.000000  0.125  0.000000      1.778\n",
       "45   0.414711  0.425179  0.375  0.000000      4.363\n",
       "46   0.329718  0.000000  0.250  0.000000      3.582\n",
       "47   0.274969  0.193989  0.375  0.666667      1.357\n",
       "48   0.277455  0.000000  0.250  0.666667      0.823\n",
       "49   0.227926  0.000000  0.250  1.000000      0.269\n",
       "50   0.272955  0.193989  0.375  0.666667      1.041\n",
       "51   0.345182  0.193989  0.500  0.333333      0.849\n",
       "52   0.359215  0.000000  0.125  0.000000      4.099\n",
       "53   0.455766  0.425179  0.375  0.000000      4.344\n",
       "54   0.802327  0.746742  1.000  0.000000      4.960\n",
       "55   0.314736  0.000000  0.250  0.000000      3.607"
      ]
     },
     "execution_count": 41,
     "metadata": {},
     "output_type": "execute_result"
    }
   ],
   "source": [
    "mymodel.features_table()"
   ]
  },
  {
   "cell_type": "code",
   "execution_count": 42,
   "metadata": {},
   "outputs": [
    {
     "data": {
      "text/html": [
       "<div>\n",
       "<style scoped>\n",
       "    .dataframe tbody tr th:only-of-type {\n",
       "        vertical-align: middle;\n",
       "    }\n",
       "\n",
       "    .dataframe tbody tr th {\n",
       "        vertical-align: top;\n",
       "    }\n",
       "\n",
       "    .dataframe thead th {\n",
       "        text-align: right;\n",
       "    }\n",
       "</style>\n",
       "<table border=\"1\" class=\"dataframe\">\n",
       "  <thead>\n",
       "    <tr style=\"text-align: right;\">\n",
       "      <th></th>\n",
       "      <th>ETA_Eta_L</th>\n",
       "      <th>TopoPSA</th>\n",
       "      <th>nRotB</th>\n",
       "      <th>nsssCH</th>\n",
       "      <th>end_point</th>\n",
       "    </tr>\n",
       "  </thead>\n",
       "  <tbody>\n",
       "    <tr>\n",
       "      <th>ETA_Eta_L</th>\n",
       "      <td>1.000000</td>\n",
       "      <td>0.076283</td>\n",
       "      <td>0.742582</td>\n",
       "      <td>-0.108054</td>\n",
       "      <td>0.266855</td>\n",
       "    </tr>\n",
       "    <tr>\n",
       "      <th>TopoPSA</th>\n",
       "      <td>0.076283</td>\n",
       "      <td>1.000000</td>\n",
       "      <td>0.365734</td>\n",
       "      <td>-0.250235</td>\n",
       "      <td>0.611937</td>\n",
       "    </tr>\n",
       "    <tr>\n",
       "      <th>nRotB</th>\n",
       "      <td>0.742582</td>\n",
       "      <td>0.365734</td>\n",
       "      <td>1.000000</td>\n",
       "      <td>0.021302</td>\n",
       "      <td>0.075124</td>\n",
       "    </tr>\n",
       "    <tr>\n",
       "      <th>nsssCH</th>\n",
       "      <td>-0.108054</td>\n",
       "      <td>-0.250235</td>\n",
       "      <td>0.021302</td>\n",
       "      <td>1.000000</td>\n",
       "      <td>-0.655931</td>\n",
       "    </tr>\n",
       "    <tr>\n",
       "      <th>end_point</th>\n",
       "      <td>0.266855</td>\n",
       "      <td>0.611937</td>\n",
       "      <td>0.075124</td>\n",
       "      <td>-0.655931</td>\n",
       "      <td>1.000000</td>\n",
       "    </tr>\n",
       "  </tbody>\n",
       "</table>\n",
       "</div>"
      ],
      "text/plain": [
       "           ETA_Eta_L   TopoPSA     nRotB    nsssCH  end_point\n",
       "ETA_Eta_L   1.000000  0.076283  0.742582 -0.108054   0.266855\n",
       "TopoPSA     0.076283  1.000000  0.365734 -0.250235   0.611937\n",
       "nRotB       0.742582  0.365734  1.000000  0.021302   0.075124\n",
       "nsssCH     -0.108054 -0.250235  0.021302  1.000000  -0.655931\n",
       "end_point   0.266855  0.611937  0.075124 -0.655931   1.000000"
      ]
     },
     "execution_count": 42,
     "metadata": {},
     "output_type": "execute_result"
    },
    {
     "data": {
      "image/png": "[encoded data removed]",
      "text/plain": [
       "<Figure size 432x288 with 25 Axes>"
      ]
     },
     "metadata": {
      "needs_background": "light"
     },
     "output_type": "display_data"
    }
   ],
   "source": [
    "mymodel.model_corr()"
   ]
  },
  {
   "cell_type": "code",
   "execution_count": 43,
   "metadata": {},
   "outputs": [
    {
     "name": "stdout",
     "output_type": "stream",
     "text": [
      "Model features:  ['ETA_Eta_L', 'TopoPSA', 'nRotB', 'nsssCH']\n",
      "Coefficients:  [[ 5.56280362  3.45694225 -4.84833043 -2.70201862]]\n",
      "Intercept:  [2.4473551]\n",
      "RMSE: 0.647375\n",
      "R^2: 0.819407\n"
     ]
    }
   ],
   "source": [
    "mymodel.mlr()"
   ]
  },
  {
   "cell_type": "code",
   "execution_count": 44,
   "metadata": {},
   "outputs": [
    {
     "data": {
      "image/png": "[encoded data removed]",
      "text/plain": [
       "<Figure size 432x288 with 1 Axes>"
      ]
     },
     "metadata": {
      "needs_background": "light"
     },
     "output_type": "display_data"
    }
   ],
   "source": [
    "mymodel.train_plot()"
   ]
  },
  {
   "cell_type": "code",
   "execution_count": 45,
   "metadata": {},
   "outputs": [
    {
     "data": {
      "text/html": [
       "\n",
       "    <div class=\"bk-root\">\n",
       "        <a href=\"https://bokeh.pydata.org\" target=\"_blank\" class=\"bk-logo bk-logo-small bk-logo-notebook\"></a>\n",
       "        <span id=\"1091\">Loading BokehJS ...</span>\n",
       "    </div>"
      ]
     },
     "metadata": {},
     "output_type": "display_data"
    },
    {
     "data": {
      "application/javascript": [
       "\n",
       "(function(root) {\n",
       "  function now() {\n",
       "    return new Date();\n",
       "  }\n",
       "\n",
       "  var force = true;\n",
       "\n",
       "  if (typeof (root._bokeh_onload_callbacks) === \"undefined\" || force === true) {\n",
       "    root._bokeh_onload_callbacks = [];\n",
       "    root._bokeh_is_loading = undefined;\n",
       "  }\n",
       "\n",
       "  var JS_MIME_TYPE = 'application/javascript';\n",
       "  var HTML_MIME_TYPE = 'text/html';\n",
       "  var EXEC_MIME_TYPE = 'application/vnd.bokehjs_exec.v0+json';\n",
       "  var CLASS_NAME = 'output_bokeh rendered_html';\n",
       "\n",
       "  /**\n",
       "   * Render data to the DOM node\n",
       "   */\n",
       "  function render(props, node) {\n",
       "    var script = document.createElement(\"script\");\n",
       "    node.appendChild(script);\n",
       "  }\n",
       "\n",
       "  /**\n",
       "   * Handle when an output is cleared or removed\n",
       "   */\n",
       "  function handleClearOutput(event, handle) {\n",
       "    var cell = handle.cell;\n",
       "\n",
       "    var id = cell.output_area._bokeh_element_id;\n",
       "    var server_id = cell.output_area._bokeh_server_id;\n",
       "    // Clean up Bokeh references\n",
       "    if (id != null && id in Bokeh.index) {\n",
       "      Bokeh.index[id].model.document.clear();\n",
       "      delete Bokeh.index[id];\n",
       "    }\n",
       "\n",
       "    if (server_id !== undefined) {\n",
       "      // Clean up Bokeh references\n",
       "      var cmd = \"from bokeh.io.state import curstate; print(curstate().uuid_to_server['\" + server_id + \"'].get_sessions()[0].document.roots[0]._id)\";\n",
       "      cell.notebook.kernel.execute(cmd, {\n",
       "        iopub: {\n",
       "          output: function(msg) {\n",
       "            var id = msg.content.text.trim();\n",
       "            if (id in Bokeh.index) {\n",
       "              Bokeh.index[id].model.document.clear();\n",
       "              delete Bokeh.index[id];\n",
       "            }\n",
       "          }\n",
       "        }\n",
       "      });\n",
       "      // Destroy server and session\n",
       "      var cmd = \"import bokeh.io.notebook as ion; ion.destroy_server('\" + server_id + \"')\";\n",
       "      cell.notebook.kernel.execute(cmd);\n",
       "    }\n",
       "  }\n",
       "\n",
       "  /**\n",
       "   * Handle when a new output is added\n",
       "   */\n",
       "  function handleAddOutput(event, handle) {\n",
       "    var output_area = handle.output_area;\n",
       "    var output = handle.output;\n",
       "\n",
       "    // limit handleAddOutput to display_data with EXEC_MIME_TYPE content only\n",
       "    if ((output.output_type != \"display_data\") || (!output.data.hasOwnProperty(EXEC_MIME_TYPE))) {\n",
       "      return\n",
       "    }\n",
       "\n",
       "    var toinsert = output_area.element.find(\".\" + CLASS_NAME.split(' ')[0]);\n",
       "\n",
       "    if (output.metadata[EXEC_MIME_TYPE][\"id\"] !== undefined) {\n",
       "      toinsert[toinsert.length - 1].firstChild.textContent = output.data[JS_MIME_TYPE];\n",
       "      // store reference to embed id on output_area\n",
       "      output_area._bokeh_element_id = output.metadata[EXEC_MIME_TYPE][\"id\"];\n",
       "    }\n",
       "    if (output.metadata[EXEC_MIME_TYPE][\"server_id\"] !== undefined) {\n",
       "      var bk_div = document.createElement(\"div\");\n",
       "      bk_div.innerHTML = output.data[HTML_MIME_TYPE];\n",
       "      var script_attrs = bk_div.children[0].attributes;\n",
       "      for (var i = 0; i < script_attrs.length; i++) {\n",
       "        toinsert[toinsert.length - 1].firstChild.setAttribute(script_attrs[i].name, script_attrs[i].value);\n",
       "      }\n",
       "      // store reference to server id on output_area\n",
       "      output_area._bokeh_server_id = output.metadata[EXEC_MIME_TYPE][\"server_id\"];\n",
       "    }\n",
       "  }\n",
       "\n",
       "  function register_renderer(events, OutputArea) {\n",
       "\n",
       "    function append_mime(data, metadata, element) {\n",
       "      // create a DOM node to render to\n",
       "      var toinsert = this.create_output_subarea(\n",
       "        metadata,\n",
       "        CLASS_NAME,\n",
       "        EXEC_MIME_TYPE\n",
       "      );\n",
       "      this.keyboard_manager.register_events(toinsert);\n",
       "      // Render to node\n",
       "      var props = {data: data, metadata: metadata[EXEC_MIME_TYPE]};\n",
       "      render(props, toinsert[toinsert.length - 1]);\n",
       "      element.append(toinsert);\n",
       "      return toinsert\n",
       "    }\n",
       "\n",
       "    /* Handle when an output is cleared or removed */\n",
       "    events.on('clear_output.CodeCell', handleClearOutput);\n",
       "    events.on('delete.Cell', handleClearOutput);\n",
       "\n",
       "    /* Handle when a new output is added */\n",
       "    events.on('output_added.OutputArea', handleAddOutput);\n",
       "\n",
       "    /**\n",
       "     * Register the mime type and append_mime function with output_area\n",
       "     */\n",
       "    OutputArea.prototype.register_mime_type(EXEC_MIME_TYPE, append_mime, {\n",
       "      /* Is output safe? */\n",
       "      safe: true,\n",
       "      /* Index of renderer in `output_area.display_order` */\n",
       "      index: 0\n",
       "    });\n",
       "  }\n",
       "\n",
       "  // register the mime type if in Jupyter Notebook environment and previously unregistered\n",
       "  if (root.Jupyter !== undefined) {\n",
       "    var events = require('base/js/events');\n",
       "    var OutputArea = require('notebook/js/outputarea').OutputArea;\n",
       "\n",
       "    if (OutputArea.prototype.mime_types().indexOf(EXEC_MIME_TYPE) == -1) {\n",
       "      register_renderer(events, OutputArea);\n",
       "    }\n",
       "  }\n",
       "\n",
       "  \n",
       "  if (typeof (root._bokeh_timeout) === \"undefined\" || force === true) {\n",
       "    root._bokeh_timeout = Date.now() + 5000;\n",
       "    root._bokeh_failed_load = false;\n",
       "  }\n",
       "\n",
       "  var NB_LOAD_WARNING = {'data': {'text/html':\n",
       "     \"<div style='background-color: #fdd'>\\n\"+\n",
       "     \"<p>\\n\"+\n",
       "     \"BokehJS does not appear to have successfully loaded. If loading BokehJS from CDN, this \\n\"+\n",
       "     \"may be due to a slow or bad network connection. Possible fixes:\\n\"+\n",
       "     \"</p>\\n\"+\n",
       "     \"<ul>\\n\"+\n",
       "     \"<li>re-rerun `output_notebook()` to attempt to load from CDN again, or</li>\\n\"+\n",
       "     \"<li>use INLINE resources instead, as so:</li>\\n\"+\n",
       "     \"</ul>\\n\"+\n",
       "     \"<code>\\n\"+\n",
       "     \"from bokeh.resources import INLINE\\n\"+\n",
       "     \"output_notebook(resources=INLINE)\\n\"+\n",
       "     \"</code>\\n\"+\n",
       "     \"</div>\"}};\n",
       "\n",
       "  function display_loaded() {\n",
       "    var el = document.getElementById(\"1091\");\n",
       "    if (el != null) {\n",
       "      el.textContent = \"BokehJS is loading...\";\n",
       "    }\n",
       "    if (root.Bokeh !== undefined) {\n",
       "      if (el != null) {\n",
       "        el.textContent = \"BokehJS \" + root.Bokeh.version + \" successfully loaded.\";\n",
       "      }\n",
       "    } else if (Date.now() < root._bokeh_timeout) {\n",
       "      setTimeout(display_loaded, 100)\n",
       "    }\n",
       "  }\n",
       "\n",
       "\n",
       "  function run_callbacks() {\n",
       "    try {\n",
       "      root._bokeh_onload_callbacks.forEach(function(callback) { callback() });\n",
       "    }\n",
       "    finally {\n",
       "      delete root._bokeh_onload_callbacks\n",
       "    }\n",
       "    console.info(\"Bokeh: all callbacks have finished\");\n",
       "  }\n",
       "\n",
       "  function load_libs(js_urls, callback) {\n",
       "    root._bokeh_onload_callbacks.push(callback);\n",
       "    if (root._bokeh_is_loading > 0) {\n",
       "      console.log(\"Bokeh: BokehJS is being loaded, scheduling callback at\", now());\n",
       "      return null;\n",
       "    }\n",
       "    if (js_urls == null || js_urls.length === 0) {\n",
       "      run_callbacks();\n",
       "      return null;\n",
       "    }\n",
       "    console.log(\"Bokeh: BokehJS not loaded, scheduling load and callback at\", now());\n",
       "    root._bokeh_is_loading = js_urls.length;\n",
       "    for (var i = 0; i < js_urls.length; i++) {\n",
       "      var url = js_urls[i];\n",
       "      var s = document.createElement('script');\n",
       "      s.src = url;\n",
       "      s.async = false;\n",
       "      s.onreadystatechange = s.onload = function() {\n",
       "        root._bokeh_is_loading--;\n",
       "        if (root._bokeh_is_loading === 0) {\n",
       "          console.log(\"Bokeh: all BokehJS libraries loaded\");\n",
       "          run_callbacks()\n",
       "        }\n",
       "      };\n",
       "      s.onerror = function() {\n",
       "        console.warn(\"failed to load library \" + url);\n",
       "      };\n",
       "      console.log(\"Bokeh: injecting script tag for BokehJS library: \", url);\n",
       "      document.getElementsByTagName(\"head\")[0].appendChild(s);\n",
       "    }\n",
       "  };var element = document.getElementById(\"1091\");\n",
       "  if (element == null) {\n",
       "    console.log(\"Bokeh: ERROR: autoload.js configured with elementid '1091' but no matching script tag was found. \")\n",
       "    return false;\n",
       "  }\n",
       "\n",
       "  var js_urls = [\"https://cdn.pydata.org/bokeh/release/bokeh-1.0.2.min.js\", \"https://cdn.pydata.org/bokeh/release/bokeh-widgets-1.0.2.min.js\", \"https://cdn.pydata.org/bokeh/release/bokeh-tables-1.0.2.min.js\", \"https://cdn.pydata.org/bokeh/release/bokeh-gl-1.0.2.min.js\"];\n",
       "\n",
       "  var inline_js = [\n",
       "    function(Bokeh) {\n",
       "      Bokeh.set_log_level(\"info\");\n",
       "    },\n",
       "    \n",
       "    function(Bokeh) {\n",
       "      \n",
       "    },\n",
       "    function(Bokeh) {\n",
       "      console.log(\"Bokeh: injecting CSS: https://cdn.pydata.org/bokeh/release/bokeh-1.0.2.min.css\");\n",
       "      Bokeh.embed.inject_css(\"https://cdn.pydata.org/bokeh/release/bokeh-1.0.2.min.css\");\n",
       "      console.log(\"Bokeh: injecting CSS: https://cdn.pydata.org/bokeh/release/bokeh-widgets-1.0.2.min.css\");\n",
       "      Bokeh.embed.inject_css(\"https://cdn.pydata.org/bokeh/release/bokeh-widgets-1.0.2.min.css\");\n",
       "      console.log(\"Bokeh: injecting CSS: https://cdn.pydata.org/bokeh/release/bokeh-tables-1.0.2.min.css\");\n",
       "      Bokeh.embed.inject_css(\"https://cdn.pydata.org/bokeh/release/bokeh-tables-1.0.2.min.css\");\n",
       "    }\n",
       "  ];\n",
       "\n",
       "  function run_inline_js() {\n",
       "    \n",
       "    if ((root.Bokeh !== undefined) || (force === true)) {\n",
       "      for (var i = 0; i < inline_js.length; i++) {\n",
       "        inline_js[i].call(root, root.Bokeh);\n",
       "      }if (force === true) {\n",
       "        display_loaded();\n",
       "      }} else if (Date.now() < root._bokeh_timeout) {\n",
       "      setTimeout(run_inline_js, 100);\n",
       "    } else if (!root._bokeh_failed_load) {\n",
       "      console.log(\"Bokeh: BokehJS failed to load within specified timeout.\");\n",
       "      root._bokeh_failed_load = true;\n",
       "    } else if (force !== true) {\n",
       "      var cell = $(document.getElementById(\"1091\")).parents('.cell').data().cell;\n",
       "      cell.output_area.append_execute_result(NB_LOAD_WARNING)\n",
       "    }\n",
       "\n",
       "  }\n",
       "\n",
       "  if (root._bokeh_is_loading === 0) {\n",
       "    console.log(\"Bokeh: BokehJS loaded, going straight to plotting\");\n",
       "    run_inline_js();\n",
       "  } else {\n",
       "    load_libs(js_urls, function() {\n",
       "      console.log(\"Bokeh: BokehJS plotting callback run at\", now());\n",
       "      run_inline_js();\n",
       "    });\n",
       "  }\n",
       "}(window));"
      ],
      "application/vnd.bokehjs_load.v0+json": "\n(function(root) {\n  function now() {\n    return new Date();\n  }\n\n  var force = true;\n\n  if (typeof (root._bokeh_onload_callbacks) === \"undefined\" || force === true) {\n    root._bokeh_onload_callbacks = [];\n    root._bokeh_is_loading = undefined;\n  }\n\n  \n\n  \n  if (typeof (root._bokeh_timeout) === \"undefined\" || force === true) {\n    root._bokeh_timeout = Date.now() + 5000;\n    root._bokeh_failed_load = false;\n  }\n\n  var NB_LOAD_WARNING = {'data': {'text/html':\n     \"<div style='background-color: #fdd'>\\n\"+\n     \"<p>\\n\"+\n     \"BokehJS does not appear to have successfully loaded. If loading BokehJS from CDN, this \\n\"+\n     \"may be due to a slow or bad network connection. Possible fixes:\\n\"+\n     \"</p>\\n\"+\n     \"<ul>\\n\"+\n     \"<li>re-rerun `output_notebook()` to attempt to load from CDN again, or</li>\\n\"+\n     \"<li>use INLINE resources instead, as so:</li>\\n\"+\n     \"</ul>\\n\"+\n     \"<code>\\n\"+\n     \"from bokeh.resources import INLINE\\n\"+\n     \"output_notebook(resources=INLINE)\\n\"+\n     \"</code>\\n\"+\n     \"</div>\"}};\n\n  function display_loaded() {\n    var el = document.getElementById(\"1091\");\n    if (el != null) {\n      el.textContent = \"BokehJS is loading...\";\n    }\n    if (root.Bokeh !== undefined) {\n      if (el != null) {\n        el.textContent = \"BokehJS \" + root.Bokeh.version + \" successfully loaded.\";\n      }\n    } else if (Date.now() < root._bokeh_timeout) {\n      setTimeout(display_loaded, 100)\n    }\n  }\n\n\n  function run_callbacks() {\n    try {\n      root._bokeh_onload_callbacks.forEach(function(callback) { callback() });\n    }\n    finally {\n      delete root._bokeh_onload_callbacks\n    }\n    console.info(\"Bokeh: all callbacks have finished\");\n  }\n\n  function load_libs(js_urls, callback) {\n    root._bokeh_onload_callbacks.push(callback);\n    if (root._bokeh_is_loading > 0) {\n      console.log(\"Bokeh: BokehJS is being loaded, scheduling callback at\", now());\n      return null;\n    }\n    if (js_urls == null || js_urls.length === 0) {\n      run_callbacks();\n      return null;\n    }\n    console.log(\"Bokeh: BokehJS not loaded, scheduling load and callback at\", now());\n    root._bokeh_is_loading = js_urls.length;\n    for (var i = 0; i < js_urls.length; i++) {\n      var url = js_urls[i];\n      var s = document.createElement('script');\n      s.src = url;\n      s.async = false;\n      s.onreadystatechange = s.onload = function() {\n        root._bokeh_is_loading--;\n        if (root._bokeh_is_loading === 0) {\n          console.log(\"Bokeh: all BokehJS libraries loaded\");\n          run_callbacks()\n        }\n      };\n      s.onerror = function() {\n        console.warn(\"failed to load library \" + url);\n      };\n      console.log(\"Bokeh: injecting script tag for BokehJS library: \", url);\n      document.getElementsByTagName(\"head\")[0].appendChild(s);\n    }\n  };var element = document.getElementById(\"1091\");\n  if (element == null) {\n    console.log(\"Bokeh: ERROR: autoload.js configured with elementid '1091' but no matching script tag was found. \")\n    return false;\n  }\n\n  var js_urls = [\"https://cdn.pydata.org/bokeh/release/bokeh-1.0.2.min.js\", \"https://cdn.pydata.org/bokeh/release/bokeh-widgets-1.0.2.min.js\", \"https://cdn.pydata.org/bokeh/release/bokeh-tables-1.0.2.min.js\", \"https://cdn.pydata.org/bokeh/release/bokeh-gl-1.0.2.min.js\"];\n\n  var inline_js = [\n    function(Bokeh) {\n      Bokeh.set_log_level(\"info\");\n    },\n    \n    function(Bokeh) {\n      \n    },\n    function(Bokeh) {\n      console.log(\"Bokeh: injecting CSS: https://cdn.pydata.org/bokeh/release/bokeh-1.0.2.min.css\");\n      Bokeh.embed.inject_css(\"https://cdn.pydata.org/bokeh/release/bokeh-1.0.2.min.css\");\n      console.log(\"Bokeh: injecting CSS: https://cdn.pydata.org/bokeh/release/bokeh-widgets-1.0.2.min.css\");\n      Bokeh.embed.inject_css(\"https://cdn.pydata.org/bokeh/release/bokeh-widgets-1.0.2.min.css\");\n      console.log(\"Bokeh: injecting CSS: https://cdn.pydata.org/bokeh/release/bokeh-tables-1.0.2.min.css\");\n      Bokeh.embed.inject_css(\"https://cdn.pydata.org/bokeh/release/bokeh-tables-1.0.2.min.css\");\n    }\n  ];\n\n  function run_inline_js() {\n    \n    if ((root.Bokeh !== undefined) || (force === true)) {\n      for (var i = 0; i < inline_js.length; i++) {\n        inline_js[i].call(root, root.Bokeh);\n      }if (force === true) {\n        display_loaded();\n      }} else if (Date.now() < root._bokeh_timeout) {\n      setTimeout(run_inline_js, 100);\n    } else if (!root._bokeh_failed_load) {\n      console.log(\"Bokeh: BokehJS failed to load within specified timeout.\");\n      root._bokeh_failed_load = true;\n    } else if (force !== true) {\n      var cell = $(document.getElementById(\"1091\")).parents('.cell').data().cell;\n      cell.output_area.append_execute_result(NB_LOAD_WARNING)\n    }\n\n  }\n\n  if (root._bokeh_is_loading === 0) {\n    console.log(\"Bokeh: BokehJS loaded, going straight to plotting\");\n    run_inline_js();\n  } else {\n    load_libs(js_urls, function() {\n      console.log(\"Bokeh: BokehJS plotting callback run at\", now());\n      run_inline_js();\n    });\n  }\n}(window));"
     },
     "metadata": {},
     "output_type": "display_data"
    },
    {
     "data": {
      "text/html": [
       "\n",
       "\n",
       "\n",
       "\n",
       "\n",
       "\n",
       "  <div class=\"bk-root\" id=\"3b8d7793-acb3-48f8-908a-9a0a92a6e988\"></div>\n"
      ]
     },
     "metadata": {},
     "output_type": "display_data"
    },
    {
     "data": {
      "application/javascript": [
       "(function(root) {\n",
       "  function embed_document(root) {\n",
       "    \n",
       "  var docs_json = {\"f8e86a08-62e3-41f3-9f5c-eecb4f4b34b0\":{\"roots\":{\"references\":[{\"attributes\":{\"callback\":null,\"data\":{\"x\":[2.592,4.538,3.927,2.858,4.186,1.589,3.2,5.367999999999999,5.337000000000001,3.9560000000000004,2.845,2.301,2.938,4.645,3.304,3.952,0.315,3.9619999999999997,5.511,3.227,1.989,1.642,4.099,3.157,2.4419999999999997,3.6919999999999997,6.255,6.542000000000001,4.545,3.889,3.292,2.832,4.176,1.2770000000000001,3.8930000000000002,4.746,1.5819999999999999,5.275,0.8420000000000001,1.739,5.067,4.376,2.865,5.3629999999999995,1.778,4.363,3.582,1.357,0.823,0.26899999999999996,1.041,0.8490000000000001,4.099,4.343999999999999,4.96,3.6069999999999998],\"y\":[2.875203646376053,3.733760792713373,4.83547078927808,3.035281095539001,2.870609753223662,2.588878649936296,2.940316151226165,5.078498440918466,5.7659133782276095,3.288576622504666,2.44735509821055,2.611409863387919,3.604152116247332,3.8267952889473262,2.3352695581685263,3.069431082544563,1.8829203257882021,3.8324373038348565,5.581647143968835,2.2210026261636555,1.668134821859808,1.5084784672021723,3.771616954838792,3.1172057301869964,3.1767915291415365,3.144493667356806,6.448584314109224,6.269549369192499,5.3966567840890205,3.932514127744892,3.804079181712553,3.062433323763436,3.91682524939274,2.1676516608519503,5.013002496646048,3.907327988173104,2.908330206403707,4.090488651367401,1.7381432878930263,2.0661835166235893,4.796570894980507,4.196442491735981,3.342905485772371,4.983452551910085,2.2312891073954715,4.406007330237173,3.069431082544563,1.0280908589161335,0.9773550212943083,-0.19883832709408678,1.01688965134796,1.7133032106107502,3.839554940722923,4.634384607002251,4.643655125083501,2.9860849117856665]},\"selected\":{\"id\":\"1138\",\"type\":\"Selection\"},\"selection_policy\":{\"id\":\"1139\",\"type\":\"UnionRenderers\"}},\"id\":\"1120\",\"type\":\"ColumnDataSource\"},{\"attributes\":{\"fill_alpha\":{\"value\":0.5},\"fill_color\":{\"value\":\"orange\"},\"line_alpha\":{\"value\":0.5},\"line_color\":{\"value\":\"orange\"},\"size\":{\"units\":\"screen\",\"value\":20},\"x\":{\"field\":\"x\"},\"y\":{\"field\":\"y\"}},\"id\":\"1121\",\"type\":\"Circle\"},{\"attributes\":{\"fill_alpha\":{\"value\":0.1},\"fill_color\":{\"value\":\"#1f77b4\"},\"line_alpha\":{\"value\":0.1},\"line_color\":{\"value\":\"#1f77b4\"},\"size\":{\"units\":\"screen\",\"value\":20},\"x\":{\"field\":\"x\"},\"y\":{\"field\":\"y\"}},\"id\":\"1122\",\"type\":\"Circle\"},{\"attributes\":{\"data_source\":{\"id\":\"1120\",\"type\":\"ColumnDataSource\"},\"glyph\":{\"id\":\"1121\",\"type\":\"Circle\"},\"hover_glyph\":null,\"muted_glyph\":null,\"nonselection_glyph\":{\"id\":\"1122\",\"type\":\"Circle\"},\"selection_glyph\":null,\"view\":{\"id\":\"1124\",\"type\":\"CDSView\"}},\"id\":\"1123\",\"type\":\"GlyphRenderer\"},{\"attributes\":{\"source\":{\"id\":\"1120\",\"type\":\"ColumnDataSource\"}},\"id\":\"1124\",\"type\":\"CDSView\"},{\"attributes\":{},\"id\":\"1138\",\"type\":\"Selection\"},{\"attributes\":{},\"id\":\"1111\",\"type\":\"BasicTicker\"},{\"attributes\":{\"axis_label\":\"Predicted Y\",\"formatter\":{\"id\":\"1137\",\"type\":\"BasicTickFormatter\"},\"plot\":{\"id\":\"1095\",\"subtype\":\"Figure\",\"type\":\"Plot\"},\"ticker\":{\"id\":\"1111\",\"type\":\"BasicTicker\"}},\"id\":\"1110\",\"type\":\"LinearAxis\"},{\"attributes\":{\"bottom_units\":\"screen\",\"fill_alpha\":{\"value\":0.5},\"fill_color\":{\"value\":\"lightgrey\"},\"left_units\":\"screen\",\"level\":\"overlay\",\"line_alpha\":{\"value\":1.0},\"line_color\":{\"value\":\"black\"},\"line_dash\":[4,4],\"line_width\":{\"value\":2},\"plot\":null,\"render_mode\":\"css\",\"right_units\":\"screen\",\"top_units\":\"screen\"},\"id\":\"1115\",\"type\":\"BoxAnnotation\"},{\"attributes\":{\"dimension\":1,\"plot\":{\"id\":\"1095\",\"subtype\":\"Figure\",\"type\":\"Plot\"},\"ticker\":{\"id\":\"1111\",\"type\":\"BasicTicker\"}},\"id\":\"1114\",\"type\":\"Grid\"},{\"attributes\":{\"active_drag\":\"auto\",\"active_inspect\":\"auto\",\"active_multi\":null,\"active_scroll\":\"auto\",\"active_tap\":\"auto\",\"tools\":[{\"id\":\"1092\",\"type\":\"BoxSelectTool\"},{\"id\":\"1093\",\"type\":\"HoverTool\"}]},\"id\":\"1117\",\"type\":\"Toolbar\"},{\"attributes\":{\"plot\":null,\"text\":\"Predicted & Actual\"},\"id\":\"1094\",\"type\":\"Title\"},{\"attributes\":{\"below\":[{\"id\":\"1105\",\"type\":\"LinearAxis\"}],\"left\":[{\"id\":\"1110\",\"type\":\"LinearAxis\"}],\"renderers\":[{\"id\":\"1105\",\"type\":\"LinearAxis\"},{\"id\":\"1109\",\"type\":\"Grid\"},{\"id\":\"1110\",\"type\":\"LinearAxis\"},{\"id\":\"1114\",\"type\":\"Grid\"},{\"id\":\"1115\",\"type\":\"BoxAnnotation\"},{\"id\":\"1123\",\"type\":\"GlyphRenderer\"}],\"title\":{\"id\":\"1094\",\"type\":\"Title\"},\"toolbar\":{\"id\":\"1117\",\"type\":\"Toolbar\"},\"x_range\":{\"id\":\"1097\",\"type\":\"DataRange1d\"},\"x_scale\":{\"id\":\"1101\",\"type\":\"LinearScale\"},\"y_range\":{\"id\":\"1099\",\"type\":\"DataRange1d\"},\"y_scale\":{\"id\":\"1103\",\"type\":\"LinearScale\"}},\"id\":\"1095\",\"subtype\":\"Figure\",\"type\":\"Plot\"},{\"attributes\":{},\"id\":\"1139\",\"type\":\"UnionRenderers\"},{\"attributes\":{\"callback\":null},\"id\":\"1097\",\"type\":\"DataRange1d\"},{\"attributes\":{\"callback\":null,\"overlay\":{\"id\":\"1115\",\"type\":\"BoxAnnotation\"}},\"id\":\"1092\",\"type\":\"BoxSelectTool\"},{\"attributes\":{\"callback\":null},\"id\":\"1093\",\"type\":\"HoverTool\"},{\"attributes\":{},\"id\":\"1137\",\"type\":\"BasicTickFormatter\"},{\"attributes\":{\"callback\":null},\"id\":\"1099\",\"type\":\"DataRange1d\"},{\"attributes\":{},\"id\":\"1135\",\"type\":\"BasicTickFormatter\"},{\"attributes\":{},\"id\":\"1106\",\"type\":\"BasicTicker\"},{\"attributes\":{\"axis_label\":\"Actual Y\",\"formatter\":{\"id\":\"1135\",\"type\":\"BasicTickFormatter\"},\"plot\":{\"id\":\"1095\",\"subtype\":\"Figure\",\"type\":\"Plot\"},\"ticker\":{\"id\":\"1106\",\"type\":\"BasicTicker\"}},\"id\":\"1105\",\"type\":\"LinearAxis\"},{\"attributes\":{},\"id\":\"1103\",\"type\":\"LinearScale\"},{\"attributes\":{},\"id\":\"1101\",\"type\":\"LinearScale\"},{\"attributes\":{\"plot\":{\"id\":\"1095\",\"subtype\":\"Figure\",\"type\":\"Plot\"},\"ticker\":{\"id\":\"1106\",\"type\":\"BasicTicker\"}},\"id\":\"1109\",\"type\":\"Grid\"}],\"root_ids\":[\"1095\"]},\"title\":\"Bokeh Application\",\"version\":\"1.0.2\"}};\n",
       "  var render_items = [{\"docid\":\"f8e86a08-62e3-41f3-9f5c-eecb4f4b34b0\",\"roots\":{\"1095\":\"3b8d7793-acb3-48f8-908a-9a0a92a6e988\"}}];\n",
       "  root.Bokeh.embed.embed_items_notebook(docs_json, render_items);\n",
       "\n",
       "  }\n",
       "  if (root.Bokeh !== undefined) {\n",
       "    embed_document(root);\n",
       "  } else {\n",
       "    var attempts = 0;\n",
       "    var timer = setInterval(function(root) {\n",
       "      if (root.Bokeh !== undefined) {\n",
       "        embed_document(root);\n",
       "        clearInterval(timer);\n",
       "      }\n",
       "      attempts++;\n",
       "      if (attempts > 100) {\n",
       "        console.log(\"Bokeh: ERROR: Unable to run BokehJS code because BokehJS library is missing\");\n",
       "        clearInterval(timer);\n",
       "      }\n",
       "    }, 10, root)\n",
       "  }\n",
       "})(window);"
      ],
      "application/vnd.bokehjs_exec.v0+json": ""
     },
     "metadata": {
      "application/vnd.bokehjs_exec.v0+json": {
       "id": "1095"
      }
     },
     "output_type": "display_data"
    }
   ],
   "source": [
    "mymodel.train_plot_inter()"
   ]
  },
  {
   "cell_type": "markdown",
   "metadata": {},
   "source": [
    "# Cross validation"
   ]
  },
  {
   "cell_type": "code",
   "execution_count": 46,
   "metadata": {},
   "outputs": [
    {
     "name": "stdout",
     "output_type": "stream",
     "text": [
      "R^2CV mean: 0.820142\n",
      "Q^2CV mean: 0.797073\n",
      "RMSE CV : 0.666974\n",
      "Features set = ['ETA_Eta_L', 'TopoPSA', 'nRotB', 'nsssCH']\n",
      "Model coeff =  [[ 5.36312114  3.42115548 -4.83323703 -2.6520258 ]]\n",
      "Model intercept =  [2.52655122]\n"
     ]
    },
    {
     "data": {
      "image/png": "[encoded data removed]",
      "text/plain": [
       "<Figure size 432x288 with 1 Axes>"
      ]
     },
     "metadata": {
      "needs_background": "light"
     },
     "output_type": "display_data"
    }
   ],
   "source": [
    "from pyqsar import cross_validation as cv\n",
    "cv.k_fold(X_data, y_data, feature_set, k=5, run=100)"
   ]
  },
  {
   "cell_type": "markdown",
   "metadata": {},
   "source": [
    "# Draw molecule"
   ]
  },
  {
   "cell_type": "code",
   "execution_count": 47,
   "metadata": {},
   "outputs": [],
   "source": [
    "from rdkit import Chem\n",
    "from rdkit.Chem import AllChem\n",
    "from rdkit.Chem import Draw\n",
    "from pyqsar import draw_mol as dm\n",
    "\n",
    "def Get_Index_Mol(ms, index_list):\n",
    "    temp_ms = []\n",
    "    for i in index_list:\n",
    "        temp_ms.append(ms[i])\n",
    "    return temp_ms\n",
    "\n",
    "sdf_file_name = \"2D_Compouds.sdf\"\n",
    "suppl = Chem.SDMolSupplier(sdf_file_name)\n",
    "ms = [x for x in suppl if x is not None]\n",
    "for m in ms:\n",
    "    tmp=AllChem.Compute2DCoords(m)"
   ]
  },
  {
   "cell_type": "code",
   "execution_count": 48,
   "metadata": {},
   "outputs": [],
   "source": [
    "index = [0,5,10,15,20,25,30,35,40,45,50]\n",
    "mols = Get_Index_Mol(ms, index)\n",
    "img=Draw.MolsToGridImage(mols,\n",
    "                         molsPerRow=3,\n",
    "                         subImgSize=(300,300),\n",
    "                         legends=[x.GetProp(\"_Name\") for x in mols] )"
   ]
  },
  {
   "cell_type": "code",
   "execution_count": 49,
   "metadata": {},
   "outputs": [
    {
     "data": {
      "image/png": "[encoded data removed]",
      "text/plain": [
       "<PIL.PngImagePlugin.PngImageFile image mode=RGB size=900x1200 at 0x7FCE5CC09350>"
      ]
     },
     "execution_count": 49,
     "metadata": {},
     "output_type": "execute_result"
    }
   ],
   "source": [
    "img"
   ]
  },
  {
   "cell_type": "code",
   "execution_count": 50,
   "metadata": {},
   "outputs": [],
   "source": [
    "draw = dm.DrawMols(sdf_file_name)\n",
    "commonsub=draw.common_substr(index=index)"
   ]
  },
  {
   "cell_type": "code",
   "execution_count": 51,
   "metadata": {},
   "outputs": [
    {
     "data": {
      "image/png": "[encoded data removed]",
      "text/plain": [
       "<rdkit.Chem.rdchem.Mol at 0x7fce5dc681a0>"
      ]
     },
     "execution_count": 51,
     "metadata": {},
     "output_type": "execute_result"
    }
   ],
   "source": [
    "draw.show_substr(commonsub)"
   ]
  },
  {
   "cell_type": "code",
   "execution_count": null,
   "metadata": {},
   "outputs": [],
   "source": []
  }
 ],
 "metadata": {
  "kernelspec": {
   "display_name": "Python 2",
   "language": "python",
   "name": "python2"
  },
  "language_info": {
   "codemirror_mode": {
    "name": "ipython",
    "version": 2
   },
   "file_extension": ".py",
   "mimetype": "text/x-python",
   "name": "python",
   "nbconvert_exporter": "python",
   "pygments_lexer": "ipython2",
   "version": "2.7.15"
  }
 },
 "nbformat": 4,
 "nbformat_minor": 2
}
